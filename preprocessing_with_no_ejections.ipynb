{
 "cells": [
  {
   "cell_type": "markdown",
   "metadata": {},
   "source": [
    "# Необходимые библиотеки"
   ]
  },
  {
   "cell_type": "code",
   "execution_count": 84,
   "metadata": {},
   "outputs": [],
   "source": [
    "import pandas as pd\n",
    "import numpy as np"
   ]
  },
  {
   "cell_type": "code",
   "execution_count": 85,
   "metadata": {},
   "outputs": [],
   "source": [
    "import seaborn as sns\n",
    "import matplotlib.pyplot as plt"
   ]
  },
  {
   "cell_type": "code",
   "execution_count": 86,
   "metadata": {},
   "outputs": [],
   "source": [
    "import warnings"
   ]
  },
  {
   "cell_type": "code",
   "execution_count": 87,
   "metadata": {},
   "outputs": [],
   "source": [
    "warnings.filterwarnings('ignore')"
   ]
  },
  {
   "cell_type": "markdown",
   "metadata": {},
   "source": [
    "# Загрузка данных"
   ]
  },
  {
   "cell_type": "code",
   "execution_count": 88,
   "metadata": {},
   "outputs": [
    {
     "data": {
      "text/html": [
       "<div>\n",
       "<style scoped>\n",
       "    .dataframe tbody tr th:only-of-type {\n",
       "        vertical-align: middle;\n",
       "    }\n",
       "\n",
       "    .dataframe tbody tr th {\n",
       "        vertical-align: top;\n",
       "    }\n",
       "\n",
       "    .dataframe thead th {\n",
       "        text-align: right;\n",
       "    }\n",
       "</style>\n",
       "<table border=\"1\" class=\"dataframe\">\n",
       "  <thead>\n",
       "    <tr style=\"text-align: right;\">\n",
       "      <th></th>\n",
       "      <th>vacancy_id</th>\n",
       "      <th>employer_id</th>\n",
       "      <th>employees_number</th>\n",
       "      <th>creation_date</th>\n",
       "      <th>work_schedule</th>\n",
       "      <th>employment</th>\n",
       "      <th>length_of_employment</th>\n",
       "      <th>compensation_from</th>\n",
       "      <th>compensation_to</th>\n",
       "      <th>accept_teenagers</th>\n",
       "      <th>...</th>\n",
       "      <th>young_response_count</th>\n",
       "      <th>young_female_response_count</th>\n",
       "      <th>young_male_response_count</th>\n",
       "      <th>invitation_count</th>\n",
       "      <th>female_invitation_count</th>\n",
       "      <th>male_invitation_count</th>\n",
       "      <th>young_invitation_count</th>\n",
       "      <th>young_female_invitation_count</th>\n",
       "      <th>young_male_invitation_count</th>\n",
       "      <th>industry_id_list</th>\n",
       "    </tr>\n",
       "  </thead>\n",
       "  <tbody>\n",
       "    <tr>\n",
       "      <th>0</th>\n",
       "      <td>77424192</td>\n",
       "      <td>2571258</td>\n",
       "      <td>300</td>\n",
       "      <td>2023-02-27</td>\n",
       "      <td>full_day</td>\n",
       "      <td>full</td>\n",
       "      <td>up_to_3_years</td>\n",
       "      <td>35000.0</td>\n",
       "      <td>0.0</td>\n",
       "      <td>False</td>\n",
       "      <td>...</td>\n",
       "      <td>4</td>\n",
       "      <td>4</td>\n",
       "      <td>0</td>\n",
       "      <td>21</td>\n",
       "      <td>21</td>\n",
       "      <td>0</td>\n",
       "      <td>0</td>\n",
       "      <td>0</td>\n",
       "      <td>0</td>\n",
       "      <td>[48]</td>\n",
       "    </tr>\n",
       "    <tr>\n",
       "      <th>1</th>\n",
       "      <td>78161908</td>\n",
       "      <td>4809555</td>\n",
       "      <td>50</td>\n",
       "      <td>2023-03-17</td>\n",
       "      <td>shift</td>\n",
       "      <td>full</td>\n",
       "      <td>no_experience</td>\n",
       "      <td>22500.0</td>\n",
       "      <td>NaN</td>\n",
       "      <td>False</td>\n",
       "      <td>...</td>\n",
       "      <td>5</td>\n",
       "      <td>4</td>\n",
       "      <td>1</td>\n",
       "      <td>26</td>\n",
       "      <td>26</td>\n",
       "      <td>0</td>\n",
       "      <td>2</td>\n",
       "      <td>2</td>\n",
       "      <td>0</td>\n",
       "      <td>[None]</td>\n",
       "    </tr>\n",
       "    <tr>\n",
       "      <th>2</th>\n",
       "      <td>79496395</td>\n",
       "      <td>5667513</td>\n",
       "      <td>5</td>\n",
       "      <td>2023-04-19</td>\n",
       "      <td>shift</td>\n",
       "      <td>full</td>\n",
       "      <td>up_to_3_years</td>\n",
       "      <td>24000.0</td>\n",
       "      <td>30000.0</td>\n",
       "      <td>False</td>\n",
       "      <td>...</td>\n",
       "      <td>2</td>\n",
       "      <td>2</td>\n",
       "      <td>0</td>\n",
       "      <td>3</td>\n",
       "      <td>3</td>\n",
       "      <td>0</td>\n",
       "      <td>0</td>\n",
       "      <td>0</td>\n",
       "      <td>0</td>\n",
       "      <td>[None]</td>\n",
       "    </tr>\n",
       "    <tr>\n",
       "      <th>3</th>\n",
       "      <td>87102246</td>\n",
       "      <td>1072323</td>\n",
       "      <td>0</td>\n",
       "      <td>2023-09-21</td>\n",
       "      <td>full_day</td>\n",
       "      <td>full</td>\n",
       "      <td>up_to_3_years</td>\n",
       "      <td>50000.0</td>\n",
       "      <td>NaN</td>\n",
       "      <td>False</td>\n",
       "      <td>...</td>\n",
       "      <td>0</td>\n",
       "      <td>0</td>\n",
       "      <td>0</td>\n",
       "      <td>9</td>\n",
       "      <td>7</td>\n",
       "      <td>2</td>\n",
       "      <td>0</td>\n",
       "      <td>0</td>\n",
       "      <td>0</td>\n",
       "      <td>[7, 8]</td>\n",
       "    </tr>\n",
       "    <tr>\n",
       "      <th>4</th>\n",
       "      <td>76367381</td>\n",
       "      <td>1160192</td>\n",
       "      <td>0</td>\n",
       "      <td>2023-01-30</td>\n",
       "      <td>full_day</td>\n",
       "      <td>full</td>\n",
       "      <td>up_to_3_years</td>\n",
       "      <td>55000.0</td>\n",
       "      <td>150000.0</td>\n",
       "      <td>False</td>\n",
       "      <td>...</td>\n",
       "      <td>0</td>\n",
       "      <td>0</td>\n",
       "      <td>0</td>\n",
       "      <td>49</td>\n",
       "      <td>39</td>\n",
       "      <td>10</td>\n",
       "      <td>0</td>\n",
       "      <td>0</td>\n",
       "      <td>0</td>\n",
       "      <td>[5, 13]</td>\n",
       "    </tr>\n",
       "  </tbody>\n",
       "</table>\n",
       "<p>5 rows × 25 columns</p>\n",
       "</div>"
      ],
      "text/plain": [
       "   vacancy_id  employer_id  employees_number creation_date work_schedule  \\\n",
       "0    77424192      2571258               300    2023-02-27      full_day   \n",
       "1    78161908      4809555                50    2023-03-17         shift   \n",
       "2    79496395      5667513                 5    2023-04-19         shift   \n",
       "3    87102246      1072323                 0    2023-09-21      full_day   \n",
       "4    76367381      1160192                 0    2023-01-30      full_day   \n",
       "\n",
       "  employment length_of_employment  compensation_from  compensation_to  \\\n",
       "0       full        up_to_3_years            35000.0              0.0   \n",
       "1       full        no_experience            22500.0              NaN   \n",
       "2       full        up_to_3_years            24000.0          30000.0   \n",
       "3       full        up_to_3_years            50000.0              NaN   \n",
       "4       full        up_to_3_years            55000.0         150000.0   \n",
       "\n",
       "   accept_teenagers  ... young_response_count young_female_response_count  \\\n",
       "0             False  ...                    4                           4   \n",
       "1             False  ...                    5                           4   \n",
       "2             False  ...                    2                           2   \n",
       "3             False  ...                    0                           0   \n",
       "4             False  ...                    0                           0   \n",
       "\n",
       "   young_male_response_count  invitation_count  female_invitation_count  \\\n",
       "0                          0                21                       21   \n",
       "1                          1                26                       26   \n",
       "2                          0                 3                        3   \n",
       "3                          0                 9                        7   \n",
       "4                          0                49                       39   \n",
       "\n",
       "   male_invitation_count  young_invitation_count  \\\n",
       "0                      0                       0   \n",
       "1                      0                       2   \n",
       "2                      0                       0   \n",
       "3                      2                       0   \n",
       "4                     10                       0   \n",
       "\n",
       "   young_female_invitation_count  young_male_invitation_count  \\\n",
       "0                              0                            0   \n",
       "1                              2                            0   \n",
       "2                              0                            0   \n",
       "3                              0                            0   \n",
       "4                              0                            0   \n",
       "\n",
       "   industry_id_list  \n",
       "0              [48]  \n",
       "1            [None]  \n",
       "2            [None]  \n",
       "3            [7, 8]  \n",
       "4           [5, 13]  \n",
       "\n",
       "[5 rows x 25 columns]"
      ]
     },
     "execution_count": 88,
     "metadata": {},
     "output_type": "execute_result"
    }
   ],
   "source": [
    "data = pd.read_csv('hh ru DATASET.csv')\n",
    "data.head()"
   ]
  },
  {
   "cell_type": "code",
   "execution_count": 89,
   "metadata": {},
   "outputs": [],
   "source": [
    "original_shape = data.shape"
   ]
  },
  {
   "cell_type": "markdown",
   "metadata": {},
   "source": [
    "# Обработка выбросов"
   ]
  },
  {
   "cell_type": "markdown",
   "metadata": {},
   "source": [
    "#### Сначала проведём обработку выбросов, чтобы они не влияли на заполнение пропусков в дальнейшем"
   ]
  },
  {
   "cell_type": "markdown",
   "metadata": {},
   "source": [
    "#### Посмотрим на число грубых выбросов по столбцам"
   ]
  },
  {
   "cell_type": "code",
   "execution_count": 90,
   "metadata": {},
   "outputs": [],
   "source": [
    "num_cols = data.select_dtypes('number').columns.drop(['vacancy_id', 'employer_id'])"
   ]
  },
  {
   "cell_type": "markdown",
   "metadata": {},
   "source": [
    "#### Посмотрим некоторые боксплоты"
   ]
  },
  {
   "cell_type": "code",
   "execution_count": 91,
   "metadata": {},
   "outputs": [
    {
     "data": {
      "image/png": "[encoded data removed]",
      "text/plain": [
       "<Figure size 2000x500 with 5 Axes>"
      ]
     },
     "metadata": {},
     "output_type": "display_data"
    }
   ],
   "source": [
    "fig, axis = plt.subplots(1, 5, figsize=(20, 5))\n",
    "\n",
    "sns.boxplot(data=data['employees_number'], ax=axis[0])\n",
    "sns.boxplot(data=data['compensation_from'], ax=axis[1])\n",
    "sns.boxplot(data=data['compensation_to'], ax=axis[2])\n",
    "sns.boxplot(data=data['response_count'], ax=axis[3])\n",
    "sns.boxplot(data=data['invitation_count'], ax=axis[4])\n",
    "\n",
    "plt.tight_layout()\n",
    "plt.show()"
   ]
  },
  {
   "cell_type": "markdown",
   "metadata": {},
   "source": [
    "#### Выбросов не так много в отношении всего датасета, поэтому будем удалять их по методу 3-х сигм, а не заменять"
   ]
  },
  {
   "cell_type": "code",
   "execution_count": 92,
   "metadata": {},
   "outputs": [],
   "source": [
    "garbage = []\n",
    "\n",
    "for num_col in num_cols:\n",
    "    upper_bound = data[num_col].quantile(0.975)\n",
    "    if 'compensation' in num_col:\n",
    "        lower_bound = data[data[num_col] != 0][num_col].quantile(0.003)\n",
    "        ejections = data[(data[num_col] > upper_bound) | (data[num_col] < lower_bound) & (data[num_col] != 0)]\n",
    "    else:\n",
    "        ejections = data[data[num_col] > upper_bound]\n",
    "\n",
    "    garbage.extend(ejections.index.tolist())\n",
    "\n",
    "garbage = list(set(garbage))\n",
    "data = data.drop(garbage).reset_index(drop=True)"
   ]
  },
  {
   "cell_type": "code",
   "execution_count": 93,
   "metadata": {},
   "outputs": [
    {
     "data": {
      "image/png": "[encoded data removed]",
      "text/plain": [
       "<Figure size 2000x500 with 5 Axes>"
      ]
     },
     "metadata": {},
     "output_type": "display_data"
    }
   ],
   "source": [
    "fig, axis = plt.subplots(1, 5, figsize=(20, 5))\n",
    "\n",
    "sns.boxplot(data=data['employees_number'], ax=axis[0])\n",
    "sns.boxplot(data=data['compensation_from'], ax=axis[1])\n",
    "sns.boxplot(data=data['compensation_to'], ax=axis[2])\n",
    "sns.boxplot(data=data['response_count'], ax=axis[3])\n",
    "sns.boxplot(data=data['invitation_count'], ax=axis[4])\n",
    "\n",
    "plt.tight_layout()\n",
    "plt.show()"
   ]
  },
  {
   "cell_type": "markdown",
   "metadata": {},
   "source": [
    "Можно сделать ложный вывод, что выбросов стало только больше, однако это уже новое распределение, а от настоящих выбросов мы избавились"
   ]
  },
  {
   "cell_type": "code",
   "execution_count": 94,
   "metadata": {},
   "outputs": [
    {
     "data": {
      "text/plain": [
       "0.136"
      ]
     },
     "execution_count": 94,
     "metadata": {},
     "output_type": "execute_result"
    }
   ],
   "source": [
    "round(1 - data.shape[0] / original_shape[0], 3)"
   ]
  },
  {
   "cell_type": "markdown",
   "metadata": {},
   "source": [
    "Итого было потеряно менее 15% датасета, что приемлимо"
   ]
  },
  {
   "cell_type": "markdown",
   "metadata": {},
   "source": [
    "# Удаление некорректных данных"
   ]
  },
  {
   "cell_type": "markdown",
   "metadata": {},
   "source": [
    "### Нами было обнаружено несоответствие количеств откликов и/или приглашений"
   ]
  },
  {
   "cell_type": "code",
   "execution_count": 95,
   "metadata": {},
   "outputs": [
    {
     "data": {
      "text/plain": [
       "5879"
      ]
     },
     "execution_count": 95,
     "metadata": {},
     "output_type": "execute_result"
    }
   ],
   "source": [
    "len(data[data['response_count'] != data['female_response_count'] + data['male_response_count']])"
   ]
  },
  {
   "cell_type": "code",
   "execution_count": 96,
   "metadata": {},
   "outputs": [
    {
     "data": {
      "text/plain": [
       "16"
      ]
     },
     "execution_count": 96,
     "metadata": {},
     "output_type": "execute_result"
    }
   ],
   "source": [
    "len(data[data['young_response_count'] != data['young_female_response_count'] + data['young_male_response_count']])"
   ]
  },
  {
   "cell_type": "code",
   "execution_count": 97,
   "metadata": {},
   "outputs": [
    {
     "data": {
      "text/plain": [
       "2713"
      ]
     },
     "execution_count": 97,
     "metadata": {},
     "output_type": "execute_result"
    }
   ],
   "source": [
    "len(data[data['invitation_count'] != data['female_invitation_count'] + data['male_invitation_count']])"
   ]
  },
  {
   "cell_type": "code",
   "execution_count": 98,
   "metadata": {},
   "outputs": [
    {
     "data": {
      "text/plain": [
       "8"
      ]
     },
     "execution_count": 98,
     "metadata": {},
     "output_type": "execute_result"
    }
   ],
   "source": [
    "len(data[data['young_invitation_count'] != data['young_female_invitation_count'] + data['young_male_invitation_count']])"
   ]
  },
  {
   "cell_type": "code",
   "execution_count": 99,
   "metadata": {},
   "outputs": [],
   "source": [
    "data = data[data['response_count'] == data['female_response_count'] + data['male_response_count']]\n",
    "data = data[data['young_response_count'] == data['young_female_response_count'] + data['young_male_response_count']]\n",
    "data = data[data['invitation_count'] == data['female_invitation_count'] + data['male_invitation_count']]\n",
    "data = data[data['young_invitation_count'] == data['young_female_invitation_count'] + data['young_male_invitation_count']]"
   ]
  },
  {
   "cell_type": "markdown",
   "metadata": {},
   "source": [
    "### Также проверим, что количество всех приглашенных больше количества молодых приглашенных"
   ]
  },
  {
   "cell_type": "code",
   "execution_count": 100,
   "metadata": {},
   "outputs": [
    {
     "data": {
      "text/plain": [
       "(True, True)"
      ]
     },
     "execution_count": 100,
     "metadata": {},
     "output_type": "execute_result"
    }
   ],
   "source": [
    "all(data['response_count'] >= data['young_response_count']), all(data['invitation_count'] >= data['young_invitation_count'])"
   ]
  },
  {
   "cell_type": "markdown",
   "metadata": {},
   "source": [
    "### Данные неточности показывали некорректность данных, поэтому их мы удалили, а не заменили"
   ]
  },
  {
   "cell_type": "markdown",
   "metadata": {},
   "source": [
    "# Удаление дубликатов"
   ]
  },
  {
   "cell_type": "markdown",
   "metadata": {},
   "source": [
    "На дубликатах строится наш исследовательский вопрос, поэтому их мы не удаляем, глобальных же дубликатов не обнаружено"
   ]
  },
  {
   "cell_type": "code",
   "execution_count": 101,
   "metadata": {},
   "outputs": [
    {
     "data": {
      "text/plain": [
       "0"
      ]
     },
     "execution_count": 101,
     "metadata": {},
     "output_type": "execute_result"
    }
   ],
   "source": [
    "sum(data.duplicated())"
   ]
  },
  {
   "cell_type": "markdown",
   "metadata": {},
   "source": [
    "# Обработка пропусков"
   ]
  },
  {
   "cell_type": "code",
   "execution_count": 102,
   "metadata": {},
   "outputs": [
    {
     "data": {
      "text/plain": [
       "compensation_from     28741\n",
       "compensation_to      103323\n",
       "dtype: int64"
      ]
     },
     "execution_count": 102,
     "metadata": {},
     "output_type": "execute_result"
    }
   ],
   "source": [
    "data.isna().sum()[data.isnull().sum() != 0]"
   ]
  },
  {
   "cell_type": "markdown",
   "metadata": {},
   "source": [
    "Пропуски наблюдаются только в признаках, связанных с зарплатой. \n",
    "\n",
    "Такие пропуски объясняются нежеланием работадателя устанавливать однозначные границы зарплаты или простым игнорированием"
   ]
  },
  {
   "cell_type": "markdown",
   "metadata": {},
   "source": [
    "Помимо этого так же есть много нулевых значений в compensation_from и compensation_to"
   ]
  },
  {
   "cell_type": "code",
   "execution_count": 103,
   "metadata": {},
   "outputs": [
    {
     "data": {
      "text/plain": [
       "5559"
      ]
     },
     "execution_count": 103,
     "metadata": {},
     "output_type": "execute_result"
    }
   ],
   "source": [
    "data[data['compensation_from'] == 0].shape[0]"
   ]
  },
  {
   "cell_type": "code",
   "execution_count": 104,
   "metadata": {},
   "outputs": [
    {
     "data": {
      "text/plain": [
       "46071"
      ]
     },
     "execution_count": 104,
     "metadata": {},
     "output_type": "execute_result"
    }
   ],
   "source": [
    "data[data['compensation_to'] == 0].shape[0]"
   ]
  },
  {
   "cell_type": "markdown",
   "metadata": {},
   "source": [
    "Их также необходимо обратить в nan, так как 0 - это всё равно, что отсутствие данных"
   ]
  },
  {
   "cell_type": "markdown",
   "metadata": {},
   "source": [
    "Мы также проверили на всякий случай, если 0 - зарплаты волонтёров, так как им не платят, но оказалось, что это не так"
   ]
  },
  {
   "cell_type": "code",
   "execution_count": 105,
   "metadata": {},
   "outputs": [
    {
     "data": {
      "text/html": [
       "<div>\n",
       "<style scoped>\n",
       "    .dataframe tbody tr th:only-of-type {\n",
       "        vertical-align: middle;\n",
       "    }\n",
       "\n",
       "    .dataframe tbody tr th {\n",
       "        vertical-align: top;\n",
       "    }\n",
       "\n",
       "    .dataframe thead th {\n",
       "        text-align: right;\n",
       "    }\n",
       "</style>\n",
       "<table border=\"1\" class=\"dataframe\">\n",
       "  <thead>\n",
       "    <tr style=\"text-align: right;\">\n",
       "      <th></th>\n",
       "      <th>vacancy_id</th>\n",
       "      <th>employer_id</th>\n",
       "      <th>employees_number</th>\n",
       "      <th>creation_date</th>\n",
       "      <th>work_schedule</th>\n",
       "      <th>employment</th>\n",
       "      <th>length_of_employment</th>\n",
       "      <th>compensation_from</th>\n",
       "      <th>compensation_to</th>\n",
       "      <th>accept_teenagers</th>\n",
       "      <th>...</th>\n",
       "      <th>young_response_count</th>\n",
       "      <th>young_female_response_count</th>\n",
       "      <th>young_male_response_count</th>\n",
       "      <th>invitation_count</th>\n",
       "      <th>female_invitation_count</th>\n",
       "      <th>male_invitation_count</th>\n",
       "      <th>young_invitation_count</th>\n",
       "      <th>young_female_invitation_count</th>\n",
       "      <th>young_male_invitation_count</th>\n",
       "      <th>industry_id_list</th>\n",
       "    </tr>\n",
       "  </thead>\n",
       "  <tbody>\n",
       "    <tr>\n",
       "      <th>43018</th>\n",
       "      <td>81902096</td>\n",
       "      <td>2818876</td>\n",
       "      <td>0</td>\n",
       "      <td>2023-06-14</td>\n",
       "      <td>shift</td>\n",
       "      <td>volonteer</td>\n",
       "      <td>up_to_3_years</td>\n",
       "      <td>35000.0</td>\n",
       "      <td>50000.0</td>\n",
       "      <td>False</td>\n",
       "      <td>...</td>\n",
       "      <td>0</td>\n",
       "      <td>0</td>\n",
       "      <td>0</td>\n",
       "      <td>12</td>\n",
       "      <td>4</td>\n",
       "      <td>8</td>\n",
       "      <td>0</td>\n",
       "      <td>0</td>\n",
       "      <td>0</td>\n",
       "      <td>[None]</td>\n",
       "    </tr>\n",
       "    <tr>\n",
       "      <th>196838</th>\n",
       "      <td>77374703</td>\n",
       "      <td>8980856</td>\n",
       "      <td>1</td>\n",
       "      <td>2023-02-24</td>\n",
       "      <td>flexible</td>\n",
       "      <td>volonteer</td>\n",
       "      <td>no_experience</td>\n",
       "      <td>NaN</td>\n",
       "      <td>NaN</td>\n",
       "      <td>False</td>\n",
       "      <td>...</td>\n",
       "      <td>0</td>\n",
       "      <td>0</td>\n",
       "      <td>0</td>\n",
       "      <td>4</td>\n",
       "      <td>0</td>\n",
       "      <td>4</td>\n",
       "      <td>0</td>\n",
       "      <td>0</td>\n",
       "      <td>0</td>\n",
       "      <td>[None]</td>\n",
       "    </tr>\n",
       "    <tr>\n",
       "      <th>308732</th>\n",
       "      <td>77073973</td>\n",
       "      <td>2818876</td>\n",
       "      <td>0</td>\n",
       "      <td>2023-02-16</td>\n",
       "      <td>shift</td>\n",
       "      <td>volonteer</td>\n",
       "      <td>up_to_3_years</td>\n",
       "      <td>35000.0</td>\n",
       "      <td>50000.0</td>\n",
       "      <td>False</td>\n",
       "      <td>...</td>\n",
       "      <td>0</td>\n",
       "      <td>0</td>\n",
       "      <td>0</td>\n",
       "      <td>10</td>\n",
       "      <td>0</td>\n",
       "      <td>10</td>\n",
       "      <td>0</td>\n",
       "      <td>0</td>\n",
       "      <td>0</td>\n",
       "      <td>[None]</td>\n",
       "    </tr>\n",
       "  </tbody>\n",
       "</table>\n",
       "<p>3 rows × 25 columns</p>\n",
       "</div>"
      ],
      "text/plain": [
       "        vacancy_id  employer_id  employees_number creation_date work_schedule  \\\n",
       "43018     81902096      2818876                 0    2023-06-14         shift   \n",
       "196838    77374703      8980856                 1    2023-02-24      flexible   \n",
       "308732    77073973      2818876                 0    2023-02-16         shift   \n",
       "\n",
       "       employment length_of_employment  compensation_from  compensation_to  \\\n",
       "43018   volonteer        up_to_3_years            35000.0          50000.0   \n",
       "196838  volonteer        no_experience                NaN              NaN   \n",
       "308732  volonteer        up_to_3_years            35000.0          50000.0   \n",
       "\n",
       "        accept_teenagers  ... young_response_count  \\\n",
       "43018              False  ...                    0   \n",
       "196838             False  ...                    0   \n",
       "308732             False  ...                    0   \n",
       "\n",
       "       young_female_response_count  young_male_response_count  \\\n",
       "43018                            0                          0   \n",
       "196838                           0                          0   \n",
       "308732                           0                          0   \n",
       "\n",
       "        invitation_count  female_invitation_count  male_invitation_count  \\\n",
       "43018                 12                        4                      8   \n",
       "196838                 4                        0                      4   \n",
       "308732                10                        0                     10   \n",
       "\n",
       "        young_invitation_count  young_female_invitation_count  \\\n",
       "43018                        0                              0   \n",
       "196838                       0                              0   \n",
       "308732                       0                              0   \n",
       "\n",
       "        young_male_invitation_count  industry_id_list  \n",
       "43018                             0            [None]  \n",
       "196838                            0            [None]  \n",
       "308732                            0            [None]  \n",
       "\n",
       "[3 rows x 25 columns]"
      ]
     },
     "execution_count": 105,
     "metadata": {},
     "output_type": "execute_result"
    }
   ],
   "source": [
    "data[data['employment'] == 'volonteer']"
   ]
  },
  {
   "cell_type": "markdown",
   "metadata": {},
   "source": [
    "### Также запишем новый категориальный столбец, который содержит информацию о том, содержались ли nan в зарплате"
   ]
  },
  {
   "cell_type": "code",
   "execution_count": 106,
   "metadata": {},
   "outputs": [],
   "source": [
    "data[['compensation_from', 'compensation_to']] = data[['compensation_from', 'compensation_to']].replace(0, np.nan)"
   ]
  },
  {
   "cell_type": "code",
   "execution_count": 107,
   "metadata": {},
   "outputs": [],
   "source": [
    "mask = data['compensation_from'].isna() | data['compensation_to'].isna()"
   ]
  },
  {
   "cell_type": "code",
   "execution_count": 108,
   "metadata": {},
   "outputs": [],
   "source": [
    "data['correct_salary'] = mask.apply(lambda x: 'approximately' if x else 'correct')"
   ]
  },
  {
   "cell_type": "code",
   "execution_count": 109,
   "metadata": {},
   "outputs": [
    {
     "data": {
      "text/html": [
       "<div>\n",
       "<style scoped>\n",
       "    .dataframe tbody tr th:only-of-type {\n",
       "        vertical-align: middle;\n",
       "    }\n",
       "\n",
       "    .dataframe tbody tr th {\n",
       "        vertical-align: top;\n",
       "    }\n",
       "\n",
       "    .dataframe thead th {\n",
       "        text-align: right;\n",
       "    }\n",
       "</style>\n",
       "<table border=\"1\" class=\"dataframe\">\n",
       "  <thead>\n",
       "    <tr style=\"text-align: right;\">\n",
       "      <th></th>\n",
       "      <th>vacancy_id</th>\n",
       "      <th>employer_id</th>\n",
       "      <th>employees_number</th>\n",
       "      <th>creation_date</th>\n",
       "      <th>work_schedule</th>\n",
       "      <th>employment</th>\n",
       "      <th>length_of_employment</th>\n",
       "      <th>compensation_from</th>\n",
       "      <th>compensation_to</th>\n",
       "      <th>accept_teenagers</th>\n",
       "      <th>...</th>\n",
       "      <th>young_female_response_count</th>\n",
       "      <th>young_male_response_count</th>\n",
       "      <th>invitation_count</th>\n",
       "      <th>female_invitation_count</th>\n",
       "      <th>male_invitation_count</th>\n",
       "      <th>young_invitation_count</th>\n",
       "      <th>young_female_invitation_count</th>\n",
       "      <th>young_male_invitation_count</th>\n",
       "      <th>industry_id_list</th>\n",
       "      <th>correct_salary</th>\n",
       "    </tr>\n",
       "  </thead>\n",
       "  <tbody>\n",
       "    <tr>\n",
       "      <th>0</th>\n",
       "      <td>78161908</td>\n",
       "      <td>4809555</td>\n",
       "      <td>50</td>\n",
       "      <td>2023-03-17</td>\n",
       "      <td>shift</td>\n",
       "      <td>full</td>\n",
       "      <td>no_experience</td>\n",
       "      <td>22500.0</td>\n",
       "      <td>NaN</td>\n",
       "      <td>False</td>\n",
       "      <td>...</td>\n",
       "      <td>4</td>\n",
       "      <td>1</td>\n",
       "      <td>26</td>\n",
       "      <td>26</td>\n",
       "      <td>0</td>\n",
       "      <td>2</td>\n",
       "      <td>2</td>\n",
       "      <td>0</td>\n",
       "      <td>[None]</td>\n",
       "      <td>approximately</td>\n",
       "    </tr>\n",
       "    <tr>\n",
       "      <th>1</th>\n",
       "      <td>79496395</td>\n",
       "      <td>5667513</td>\n",
       "      <td>5</td>\n",
       "      <td>2023-04-19</td>\n",
       "      <td>shift</td>\n",
       "      <td>full</td>\n",
       "      <td>up_to_3_years</td>\n",
       "      <td>24000.0</td>\n",
       "      <td>30000.0</td>\n",
       "      <td>False</td>\n",
       "      <td>...</td>\n",
       "      <td>2</td>\n",
       "      <td>0</td>\n",
       "      <td>3</td>\n",
       "      <td>3</td>\n",
       "      <td>0</td>\n",
       "      <td>0</td>\n",
       "      <td>0</td>\n",
       "      <td>0</td>\n",
       "      <td>[None]</td>\n",
       "      <td>correct</td>\n",
       "    </tr>\n",
       "    <tr>\n",
       "      <th>2</th>\n",
       "      <td>87102246</td>\n",
       "      <td>1072323</td>\n",
       "      <td>0</td>\n",
       "      <td>2023-09-21</td>\n",
       "      <td>full_day</td>\n",
       "      <td>full</td>\n",
       "      <td>up_to_3_years</td>\n",
       "      <td>50000.0</td>\n",
       "      <td>NaN</td>\n",
       "      <td>False</td>\n",
       "      <td>...</td>\n",
       "      <td>0</td>\n",
       "      <td>0</td>\n",
       "      <td>9</td>\n",
       "      <td>7</td>\n",
       "      <td>2</td>\n",
       "      <td>0</td>\n",
       "      <td>0</td>\n",
       "      <td>0</td>\n",
       "      <td>[7, 8]</td>\n",
       "      <td>approximately</td>\n",
       "    </tr>\n",
       "    <tr>\n",
       "      <th>3</th>\n",
       "      <td>76367381</td>\n",
       "      <td>1160192</td>\n",
       "      <td>0</td>\n",
       "      <td>2023-01-30</td>\n",
       "      <td>full_day</td>\n",
       "      <td>full</td>\n",
       "      <td>up_to_3_years</td>\n",
       "      <td>55000.0</td>\n",
       "      <td>150000.0</td>\n",
       "      <td>False</td>\n",
       "      <td>...</td>\n",
       "      <td>0</td>\n",
       "      <td>0</td>\n",
       "      <td>49</td>\n",
       "      <td>39</td>\n",
       "      <td>10</td>\n",
       "      <td>0</td>\n",
       "      <td>0</td>\n",
       "      <td>0</td>\n",
       "      <td>[5, 13]</td>\n",
       "      <td>correct</td>\n",
       "    </tr>\n",
       "    <tr>\n",
       "      <th>4</th>\n",
       "      <td>81516485</td>\n",
       "      <td>1025275</td>\n",
       "      <td>38000</td>\n",
       "      <td>2023-06-05</td>\n",
       "      <td>shift</td>\n",
       "      <td>full</td>\n",
       "      <td>no_experience</td>\n",
       "      <td>38500.0</td>\n",
       "      <td>56500.0</td>\n",
       "      <td>False</td>\n",
       "      <td>...</td>\n",
       "      <td>1</td>\n",
       "      <td>1</td>\n",
       "      <td>13</td>\n",
       "      <td>0</td>\n",
       "      <td>13</td>\n",
       "      <td>1</td>\n",
       "      <td>0</td>\n",
       "      <td>1</td>\n",
       "      <td>[8, 41]</td>\n",
       "      <td>correct</td>\n",
       "    </tr>\n",
       "    <tr>\n",
       "      <th>...</th>\n",
       "      <td>...</td>\n",
       "      <td>...</td>\n",
       "      <td>...</td>\n",
       "      <td>...</td>\n",
       "      <td>...</td>\n",
       "      <td>...</td>\n",
       "      <td>...</td>\n",
       "      <td>...</td>\n",
       "      <td>...</td>\n",
       "      <td>...</td>\n",
       "      <td>...</td>\n",
       "      <td>...</td>\n",
       "      <td>...</td>\n",
       "      <td>...</td>\n",
       "      <td>...</td>\n",
       "      <td>...</td>\n",
       "      <td>...</td>\n",
       "      <td>...</td>\n",
       "      <td>...</td>\n",
       "      <td>...</td>\n",
       "      <td>...</td>\n",
       "    </tr>\n",
       "    <tr>\n",
       "      <th>326322</th>\n",
       "      <td>87825374</td>\n",
       "      <td>3558</td>\n",
       "      <td>7000</td>\n",
       "      <td>2023-10-06</td>\n",
       "      <td>flyInFlyOut</td>\n",
       "      <td>full</td>\n",
       "      <td>up_to_3_years</td>\n",
       "      <td>96780.0</td>\n",
       "      <td>NaN</td>\n",
       "      <td>False</td>\n",
       "      <td>...</td>\n",
       "      <td>0</td>\n",
       "      <td>0</td>\n",
       "      <td>9</td>\n",
       "      <td>8</td>\n",
       "      <td>1</td>\n",
       "      <td>0</td>\n",
       "      <td>0</td>\n",
       "      <td>0</td>\n",
       "      <td>[50]</td>\n",
       "      <td>approximately</td>\n",
       "    </tr>\n",
       "    <tr>\n",
       "      <th>326323</th>\n",
       "      <td>77397135</td>\n",
       "      <td>4446306</td>\n",
       "      <td>2</td>\n",
       "      <td>2023-02-27</td>\n",
       "      <td>remote</td>\n",
       "      <td>full</td>\n",
       "      <td>above_6_years</td>\n",
       "      <td>100000.0</td>\n",
       "      <td>150000.0</td>\n",
       "      <td>False</td>\n",
       "      <td>...</td>\n",
       "      <td>0</td>\n",
       "      <td>0</td>\n",
       "      <td>5</td>\n",
       "      <td>3</td>\n",
       "      <td>2</td>\n",
       "      <td>0</td>\n",
       "      <td>0</td>\n",
       "      <td>0</td>\n",
       "      <td>[7]</td>\n",
       "      <td>correct</td>\n",
       "    </tr>\n",
       "    <tr>\n",
       "      <th>326324</th>\n",
       "      <td>75924698</td>\n",
       "      <td>2067104</td>\n",
       "      <td>0</td>\n",
       "      <td>2023-01-18</td>\n",
       "      <td>shift</td>\n",
       "      <td>full</td>\n",
       "      <td>up_to_3_years</td>\n",
       "      <td>35000.0</td>\n",
       "      <td>40000.0</td>\n",
       "      <td>False</td>\n",
       "      <td>...</td>\n",
       "      <td>0</td>\n",
       "      <td>0</td>\n",
       "      <td>34</td>\n",
       "      <td>34</td>\n",
       "      <td>0</td>\n",
       "      <td>0</td>\n",
       "      <td>0</td>\n",
       "      <td>0</td>\n",
       "      <td>[None]</td>\n",
       "      <td>correct</td>\n",
       "    </tr>\n",
       "    <tr>\n",
       "      <th>326325</th>\n",
       "      <td>84486705</td>\n",
       "      <td>1838</td>\n",
       "      <td>0</td>\n",
       "      <td>2023-08-03</td>\n",
       "      <td>full_day</td>\n",
       "      <td>full</td>\n",
       "      <td>up_to_3_years</td>\n",
       "      <td>85000.0</td>\n",
       "      <td>NaN</td>\n",
       "      <td>False</td>\n",
       "      <td>...</td>\n",
       "      <td>0</td>\n",
       "      <td>0</td>\n",
       "      <td>1</td>\n",
       "      <td>0</td>\n",
       "      <td>1</td>\n",
       "      <td>0</td>\n",
       "      <td>0</td>\n",
       "      <td>0</td>\n",
       "      <td>[44]</td>\n",
       "      <td>approximately</td>\n",
       "    </tr>\n",
       "    <tr>\n",
       "      <th>326326</th>\n",
       "      <td>87254076</td>\n",
       "      <td>6070792</td>\n",
       "      <td>10</td>\n",
       "      <td>2023-09-25</td>\n",
       "      <td>full_day</td>\n",
       "      <td>full</td>\n",
       "      <td>no_experience</td>\n",
       "      <td>40000.0</td>\n",
       "      <td>60000.0</td>\n",
       "      <td>False</td>\n",
       "      <td>...</td>\n",
       "      <td>0</td>\n",
       "      <td>0</td>\n",
       "      <td>10</td>\n",
       "      <td>0</td>\n",
       "      <td>10</td>\n",
       "      <td>0</td>\n",
       "      <td>0</td>\n",
       "      <td>0</td>\n",
       "      <td>[None]</td>\n",
       "      <td>correct</td>\n",
       "    </tr>\n",
       "  </tbody>\n",
       "</table>\n",
       "<p>320398 rows × 26 columns</p>\n",
       "</div>"
      ],
      "text/plain": [
       "        vacancy_id  employer_id  employees_number creation_date work_schedule  \\\n",
       "0         78161908      4809555                50    2023-03-17         shift   \n",
       "1         79496395      5667513                 5    2023-04-19         shift   \n",
       "2         87102246      1072323                 0    2023-09-21      full_day   \n",
       "3         76367381      1160192                 0    2023-01-30      full_day   \n",
       "4         81516485      1025275             38000    2023-06-05         shift   \n",
       "...            ...          ...               ...           ...           ...   \n",
       "326322    87825374         3558              7000    2023-10-06   flyInFlyOut   \n",
       "326323    77397135      4446306                 2    2023-02-27        remote   \n",
       "326324    75924698      2067104                 0    2023-01-18         shift   \n",
       "326325    84486705         1838                 0    2023-08-03      full_day   \n",
       "326326    87254076      6070792                10    2023-09-25      full_day   \n",
       "\n",
       "       employment length_of_employment  compensation_from  compensation_to  \\\n",
       "0            full        no_experience            22500.0              NaN   \n",
       "1            full        up_to_3_years            24000.0          30000.0   \n",
       "2            full        up_to_3_years            50000.0              NaN   \n",
       "3            full        up_to_3_years            55000.0         150000.0   \n",
       "4            full        no_experience            38500.0          56500.0   \n",
       "...           ...                  ...                ...              ...   \n",
       "326322       full        up_to_3_years            96780.0              NaN   \n",
       "326323       full        above_6_years           100000.0         150000.0   \n",
       "326324       full        up_to_3_years            35000.0          40000.0   \n",
       "326325       full        up_to_3_years            85000.0              NaN   \n",
       "326326       full        no_experience            40000.0          60000.0   \n",
       "\n",
       "        accept_teenagers  ... young_female_response_count  \\\n",
       "0                  False  ...                           4   \n",
       "1                  False  ...                           2   \n",
       "2                  False  ...                           0   \n",
       "3                  False  ...                           0   \n",
       "4                  False  ...                           1   \n",
       "...                  ...  ...                         ...   \n",
       "326322             False  ...                           0   \n",
       "326323             False  ...                           0   \n",
       "326324             False  ...                           0   \n",
       "326325             False  ...                           0   \n",
       "326326             False  ...                           0   \n",
       "\n",
       "       young_male_response_count  invitation_count  female_invitation_count  \\\n",
       "0                              1                26                       26   \n",
       "1                              0                 3                        3   \n",
       "2                              0                 9                        7   \n",
       "3                              0                49                       39   \n",
       "4                              1                13                        0   \n",
       "...                          ...               ...                      ...   \n",
       "326322                         0                 9                        8   \n",
       "326323                         0                 5                        3   \n",
       "326324                         0                34                       34   \n",
       "326325                         0                 1                        0   \n",
       "326326                         0                10                        0   \n",
       "\n",
       "        male_invitation_count  young_invitation_count  \\\n",
       "0                           0                       2   \n",
       "1                           0                       0   \n",
       "2                           2                       0   \n",
       "3                          10                       0   \n",
       "4                          13                       1   \n",
       "...                       ...                     ...   \n",
       "326322                      1                       0   \n",
       "326323                      2                       0   \n",
       "326324                      0                       0   \n",
       "326325                      1                       0   \n",
       "326326                     10                       0   \n",
       "\n",
       "        young_female_invitation_count  young_male_invitation_count  \\\n",
       "0                                   2                            0   \n",
       "1                                   0                            0   \n",
       "2                                   0                            0   \n",
       "3                                   0                            0   \n",
       "4                                   0                            1   \n",
       "...                               ...                          ...   \n",
       "326322                              0                            0   \n",
       "326323                              0                            0   \n",
       "326324                              0                            0   \n",
       "326325                              0                            0   \n",
       "326326                              0                            0   \n",
       "\n",
       "        industry_id_list  correct_salary  \n",
       "0                 [None]   approximately  \n",
       "1                 [None]         correct  \n",
       "2                 [7, 8]   approximately  \n",
       "3                [5, 13]         correct  \n",
       "4                [8, 41]         correct  \n",
       "...                  ...             ...  \n",
       "326322              [50]   approximately  \n",
       "326323               [7]         correct  \n",
       "326324            [None]         correct  \n",
       "326325              [44]   approximately  \n",
       "326326            [None]         correct  \n",
       "\n",
       "[320398 rows x 26 columns]"
      ]
     },
     "execution_count": 109,
     "metadata": {},
     "output_type": "execute_result"
    }
   ],
   "source": [
    "data"
   ]
  },
  {
   "cell_type": "markdown",
   "metadata": {},
   "source": [
    "Теперь заменим все nans в compensation_from на медианную зарплату данной профессии. Такое решение содержит множество допущений, ведь есть множество факторов, влияющих на 'compensation_from', но 'specialization' мы посчитали наиболее значимым и достаточным (как аргумент, там нет пропусков и на каждое уникальное значение в среднем 15000 сэмплов)"
   ]
  },
  {
   "cell_type": "markdown",
   "metadata": {},
   "source": [
    "Технически также можно взять медианную более мелких групп, вроде сочетаний профессии и региона, профессии и работодателя, но эти группы могут быть крайне маленькими или вообще не быть, что неинформативно, поэтому мы посчитали, что только профессии будет достаточно."
   ]
  },
  {
   "cell_type": "markdown",
   "metadata": {},
   "source": [
    "##### Также мы посчитали коэффициент корреляции eta для пар: 'compensation_from' и 'specialization', 'compensation_from' и 'region_name'"
   ]
  },
  {
   "cell_type": "code",
   "execution_count": 110,
   "metadata": {},
   "outputs": [],
   "source": [
    "def get_eta_correlation(categorical_col):\n",
    "    groups = [data['compensation_from'][data[categorical_col] == value] for value in data[categorical_col].unique()]\n",
    "        \n",
    "    total_variance = np.var(data['compensation_from'])\n",
    "    group_means = [g.mean() for g in groups]\n",
    "    group_sizes = [len(g) for g in groups]\n",
    "    group_variance = sum(size * (mean - data['compensation_from'].mean()) ** 2 for size, mean in zip(group_sizes, group_means)) / len(data)\n",
    "\n",
    "    return np.round(group_variance / total_variance, 3)"
   ]
  },
  {
   "cell_type": "code",
   "execution_count": 111,
   "metadata": {},
   "outputs": [
    {
     "data": {
      "text/plain": [
       "0.284"
      ]
     },
     "execution_count": 111,
     "metadata": {},
     "output_type": "execute_result"
    }
   ],
   "source": [
    "get_eta_correlation('specialization')"
   ]
  },
  {
   "cell_type": "code",
   "execution_count": 112,
   "metadata": {},
   "outputs": [
    {
     "data": {
      "text/plain": [
       "0.026"
      ]
     },
     "execution_count": 112,
     "metadata": {},
     "output_type": "execute_result"
    }
   ],
   "source": [
    "get_eta_correlation('region_name')"
   ]
  },
  {
   "cell_type": "markdown",
   "metadata": {},
   "source": [
    "Заметим, что специализация влияет на зарплату гораздо значимее, чем регион"
   ]
  },
  {
   "cell_type": "code",
   "execution_count": 113,
   "metadata": {},
   "outputs": [],
   "source": [
    "data['compensation_from'] = data['compensation_from'].fillna(\n",
    "    data.groupby('specialization')['compensation_from'].transform('median')\n",
    ")"
   ]
  },
  {
   "cell_type": "code",
   "execution_count": 114,
   "metadata": {},
   "outputs": [
    {
     "data": {
      "text/plain": [
       "3595"
      ]
     },
     "execution_count": 114,
     "metadata": {},
     "output_type": "execute_result"
    }
   ],
   "source": [
    "'''случаи, где compensation_from > compensation_to'''\n",
    "\n",
    "data[(data['compensation_from'] > data['compensation_to']) & (data['compensation_to'] != 0)].shape[0]"
   ]
  },
  {
   "cell_type": "markdown",
   "metadata": {},
   "source": [
    "Также есть данные, где compensation_from, в которой мы заполняли пропуски, больше чем compensation_to. В таких случаях мы опустим compensation_from до уровня compensation_to"
   ]
  },
  {
   "cell_type": "code",
   "execution_count": 115,
   "metadata": {},
   "outputs": [],
   "source": [
    "data.loc[(data['compensation_from'] > data['compensation_to']) & (data['compensation_to'] != 0), 'compensation_from'] = data['compensation_to']"
   ]
  },
  {
   "cell_type": "code",
   "execution_count": 116,
   "metadata": {},
   "outputs": [],
   "source": [
    "data['compensation_to'] = data['compensation_to'].fillna(data['compensation_from'])"
   ]
  },
  {
   "cell_type": "code",
   "execution_count": 117,
   "metadata": {},
   "outputs": [
    {
     "data": {
      "text/plain": [
       "0"
      ]
     },
     "execution_count": 117,
     "metadata": {},
     "output_type": "execute_result"
    }
   ],
   "source": [
    "sum(data.isnull().sum())"
   ]
  },
  {
   "cell_type": "markdown",
   "metadata": {},
   "source": [
    "# Дополнительные колонки"
   ]
  },
  {
   "cell_type": "markdown",
   "metadata": {},
   "source": [
    "Добавим данные о длине списка id индустрий"
   ]
  },
  {
   "cell_type": "code",
   "execution_count": 118,
   "metadata": {},
   "outputs": [],
   "source": [
    "data['industry_id_list'] = data['industry_id_list'].apply(eval)"
   ]
  },
  {
   "cell_type": "code",
   "execution_count": 119,
   "metadata": {},
   "outputs": [],
   "source": [
    "data['length_industry_list'] = data['industry_id_list'].apply(lambda x: len(x) if int(bool(x[0])) else 0)"
   ]
  },
  {
   "cell_type": "code",
   "execution_count": 120,
   "metadata": {},
   "outputs": [
    {
     "data": {
      "text/plain": [
       "length_industry_list\n",
       "0    134405\n",
       "1    117551\n",
       "2     54702\n",
       "3     11339\n",
       "4      2045\n",
       "5       356\n",
       "Name: count, dtype: int64"
      ]
     },
     "execution_count": 120,
     "metadata": {},
     "output_type": "execute_result"
    }
   ],
   "source": [
    "data['length_industry_list'].value_counts()"
   ]
  },
  {
   "cell_type": "markdown",
   "metadata": {},
   "source": [
    "# Сохранение датасета"
   ]
  },
  {
   "cell_type": "code",
   "execution_count": 121,
   "metadata": {},
   "outputs": [],
   "source": [
    "data.to_csv('cleared_data_no_exp.csv', index=False)"
   ]
  },
  {
   "cell_type": "code",
   "execution_count": 122,
   "metadata": {},
   "outputs": [
    {
     "data": {
      "text/html": [
       "<div>\n",
       "<style scoped>\n",
       "    .dataframe tbody tr th:only-of-type {\n",
       "        vertical-align: middle;\n",
       "    }\n",
       "\n",
       "    .dataframe tbody tr th {\n",
       "        vertical-align: top;\n",
       "    }\n",
       "\n",
       "    .dataframe thead th {\n",
       "        text-align: right;\n",
       "    }\n",
       "</style>\n",
       "<table border=\"1\" class=\"dataframe\">\n",
       "  <thead>\n",
       "    <tr style=\"text-align: right;\">\n",
       "      <th></th>\n",
       "      <th>vacancy_id</th>\n",
       "      <th>employer_id</th>\n",
       "      <th>employees_number</th>\n",
       "      <th>compensation_from</th>\n",
       "      <th>compensation_to</th>\n",
       "      <th>response_count</th>\n",
       "      <th>female_response_count</th>\n",
       "      <th>male_response_count</th>\n",
       "      <th>young_response_count</th>\n",
       "      <th>young_female_response_count</th>\n",
       "      <th>young_male_response_count</th>\n",
       "      <th>invitation_count</th>\n",
       "      <th>female_invitation_count</th>\n",
       "      <th>male_invitation_count</th>\n",
       "      <th>young_invitation_count</th>\n",
       "      <th>young_female_invitation_count</th>\n",
       "      <th>young_male_invitation_count</th>\n",
       "      <th>length_industry_list</th>\n",
       "    </tr>\n",
       "  </thead>\n",
       "  <tbody>\n",
       "    <tr>\n",
       "      <th>count</th>\n",
       "      <td>3.203980e+05</td>\n",
       "      <td>3.203980e+05</td>\n",
       "      <td>320398.000000</td>\n",
       "      <td>320398.000000</td>\n",
       "      <td>320398.000000</td>\n",
       "      <td>320398.000000</td>\n",
       "      <td>320398.000000</td>\n",
       "      <td>320398.000000</td>\n",
       "      <td>320398.000000</td>\n",
       "      <td>320398.000000</td>\n",
       "      <td>320398.000000</td>\n",
       "      <td>320398.000000</td>\n",
       "      <td>320398.000000</td>\n",
       "      <td>320398.000000</td>\n",
       "      <td>320398.000000</td>\n",
       "      <td>320398.000000</td>\n",
       "      <td>320398.000000</td>\n",
       "      <td>320398.000000</td>\n",
       "    </tr>\n",
       "    <tr>\n",
       "      <th>mean</th>\n",
       "      <td>8.353531e+07</td>\n",
       "      <td>3.545894e+06</td>\n",
       "      <td>4282.710479</td>\n",
       "      <td>51555.418336</td>\n",
       "      <td>65087.669118</td>\n",
       "      <td>14.805548</td>\n",
       "      <td>8.505109</td>\n",
       "      <td>6.300439</td>\n",
       "      <td>0.754371</td>\n",
       "      <td>0.487931</td>\n",
       "      <td>0.266440</td>\n",
       "      <td>10.595038</td>\n",
       "      <td>6.019048</td>\n",
       "      <td>4.575990</td>\n",
       "      <td>0.295211</td>\n",
       "      <td>0.189876</td>\n",
       "      <td>0.105335</td>\n",
       "      <td>0.845611</td>\n",
       "    </tr>\n",
       "    <tr>\n",
       "      <th>std</th>\n",
       "      <td>4.566648e+06</td>\n",
       "      <td>3.131684e+06</td>\n",
       "      <td>13581.514214</td>\n",
       "      <td>25673.403819</td>\n",
       "      <td>36783.580468</td>\n",
       "      <td>16.768250</td>\n",
       "      <td>13.188451</td>\n",
       "      <td>8.473087</td>\n",
       "      <td>1.777006</td>\n",
       "      <td>1.340252</td>\n",
       "      <td>0.740924</td>\n",
       "      <td>13.228883</td>\n",
       "      <td>10.134623</td>\n",
       "      <td>7.715988</td>\n",
       "      <td>0.835033</td>\n",
       "      <td>0.633037</td>\n",
       "      <td>0.395309</td>\n",
       "      <td>0.884972</td>\n",
       "    </tr>\n",
       "    <tr>\n",
       "      <th>min</th>\n",
       "      <td>7.453818e+07</td>\n",
       "      <td>6.000000e+00</td>\n",
       "      <td>0.000000</td>\n",
       "      <td>3000.000000</td>\n",
       "      <td>3000.000000</td>\n",
       "      <td>1.000000</td>\n",
       "      <td>0.000000</td>\n",
       "      <td>0.000000</td>\n",
       "      <td>0.000000</td>\n",
       "      <td>0.000000</td>\n",
       "      <td>0.000000</td>\n",
       "      <td>1.000000</td>\n",
       "      <td>0.000000</td>\n",
       "      <td>0.000000</td>\n",
       "      <td>0.000000</td>\n",
       "      <td>0.000000</td>\n",
       "      <td>0.000000</td>\n",
       "      <td>0.000000</td>\n",
       "    </tr>\n",
       "    <tr>\n",
       "      <th>25%</th>\n",
       "      <td>7.959668e+07</td>\n",
       "      <td>8.994620e+05</td>\n",
       "      <td>1.000000</td>\n",
       "      <td>35000.000000</td>\n",
       "      <td>40000.000000</td>\n",
       "      <td>4.000000</td>\n",
       "      <td>1.000000</td>\n",
       "      <td>1.000000</td>\n",
       "      <td>0.000000</td>\n",
       "      <td>0.000000</td>\n",
       "      <td>0.000000</td>\n",
       "      <td>2.000000</td>\n",
       "      <td>0.000000</td>\n",
       "      <td>0.000000</td>\n",
       "      <td>0.000000</td>\n",
       "      <td>0.000000</td>\n",
       "      <td>0.000000</td>\n",
       "      <td>0.000000</td>\n",
       "    </tr>\n",
       "    <tr>\n",
       "      <th>50%</th>\n",
       "      <td>8.359738e+07</td>\n",
       "      <td>2.958557e+06</td>\n",
       "      <td>50.000000</td>\n",
       "      <td>45000.000000</td>\n",
       "      <td>50000.000000</td>\n",
       "      <td>9.000000</td>\n",
       "      <td>4.000000</td>\n",
       "      <td>3.000000</td>\n",
       "      <td>0.000000</td>\n",
       "      <td>0.000000</td>\n",
       "      <td>0.000000</td>\n",
       "      <td>5.000000</td>\n",
       "      <td>2.000000</td>\n",
       "      <td>2.000000</td>\n",
       "      <td>0.000000</td>\n",
       "      <td>0.000000</td>\n",
       "      <td>0.000000</td>\n",
       "      <td>1.000000</td>\n",
       "    </tr>\n",
       "    <tr>\n",
       "      <th>75%</th>\n",
       "      <td>8.764934e+07</td>\n",
       "      <td>5.195559e+06</td>\n",
       "      <td>1000.000000</td>\n",
       "      <td>60000.000000</td>\n",
       "      <td>80000.000000</td>\n",
       "      <td>19.000000</td>\n",
       "      <td>10.000000</td>\n",
       "      <td>8.000000</td>\n",
       "      <td>1.000000</td>\n",
       "      <td>0.000000</td>\n",
       "      <td>0.000000</td>\n",
       "      <td>14.000000</td>\n",
       "      <td>7.000000</td>\n",
       "      <td>5.000000</td>\n",
       "      <td>0.000000</td>\n",
       "      <td>0.000000</td>\n",
       "      <td>0.000000</td>\n",
       "      <td>1.000000</td>\n",
       "    </tr>\n",
       "    <tr>\n",
       "      <th>max</th>\n",
       "      <td>9.116080e+07</td>\n",
       "      <td>1.123034e+07</td>\n",
       "      <td>79000.000000</td>\n",
       "      <td>150000.000000</td>\n",
       "      <td>200000.000000</td>\n",
       "      <td>135.000000</td>\n",
       "      <td>93.000000</td>\n",
       "      <td>60.000000</td>\n",
       "      <td>17.000000</td>\n",
       "      <td>12.000000</td>\n",
       "      <td>6.000000</td>\n",
       "      <td>108.000000</td>\n",
       "      <td>71.000000</td>\n",
       "      <td>55.000000</td>\n",
       "      <td>8.000000</td>\n",
       "      <td>5.000000</td>\n",
       "      <td>3.000000</td>\n",
       "      <td>5.000000</td>\n",
       "    </tr>\n",
       "  </tbody>\n",
       "</table>\n",
       "</div>"
      ],
      "text/plain": [
       "         vacancy_id   employer_id  employees_number  compensation_from  \\\n",
       "count  3.203980e+05  3.203980e+05     320398.000000      320398.000000   \n",
       "mean   8.353531e+07  3.545894e+06       4282.710479       51555.418336   \n",
       "std    4.566648e+06  3.131684e+06      13581.514214       25673.403819   \n",
       "min    7.453818e+07  6.000000e+00          0.000000        3000.000000   \n",
       "25%    7.959668e+07  8.994620e+05          1.000000       35000.000000   \n",
       "50%    8.359738e+07  2.958557e+06         50.000000       45000.000000   \n",
       "75%    8.764934e+07  5.195559e+06       1000.000000       60000.000000   \n",
       "max    9.116080e+07  1.123034e+07      79000.000000      150000.000000   \n",
       "\n",
       "       compensation_to  response_count  female_response_count  \\\n",
       "count    320398.000000   320398.000000          320398.000000   \n",
       "mean      65087.669118       14.805548               8.505109   \n",
       "std       36783.580468       16.768250              13.188451   \n",
       "min        3000.000000        1.000000               0.000000   \n",
       "25%       40000.000000        4.000000               1.000000   \n",
       "50%       50000.000000        9.000000               4.000000   \n",
       "75%       80000.000000       19.000000              10.000000   \n",
       "max      200000.000000      135.000000              93.000000   \n",
       "\n",
       "       male_response_count  young_response_count  young_female_response_count  \\\n",
       "count        320398.000000         320398.000000                320398.000000   \n",
       "mean              6.300439              0.754371                     0.487931   \n",
       "std               8.473087              1.777006                     1.340252   \n",
       "min               0.000000              0.000000                     0.000000   \n",
       "25%               1.000000              0.000000                     0.000000   \n",
       "50%               3.000000              0.000000                     0.000000   \n",
       "75%               8.000000              1.000000                     0.000000   \n",
       "max              60.000000             17.000000                    12.000000   \n",
       "\n",
       "       young_male_response_count  invitation_count  female_invitation_count  \\\n",
       "count              320398.000000     320398.000000            320398.000000   \n",
       "mean                    0.266440         10.595038                 6.019048   \n",
       "std                     0.740924         13.228883                10.134623   \n",
       "min                     0.000000          1.000000                 0.000000   \n",
       "25%                     0.000000          2.000000                 0.000000   \n",
       "50%                     0.000000          5.000000                 2.000000   \n",
       "75%                     0.000000         14.000000                 7.000000   \n",
       "max                     6.000000        108.000000                71.000000   \n",
       "\n",
       "       male_invitation_count  young_invitation_count  \\\n",
       "count          320398.000000           320398.000000   \n",
       "mean                4.575990                0.295211   \n",
       "std                 7.715988                0.835033   \n",
       "min                 0.000000                0.000000   \n",
       "25%                 0.000000                0.000000   \n",
       "50%                 2.000000                0.000000   \n",
       "75%                 5.000000                0.000000   \n",
       "max                55.000000                8.000000   \n",
       "\n",
       "       young_female_invitation_count  young_male_invitation_count  \\\n",
       "count                  320398.000000                320398.000000   \n",
       "mean                        0.189876                     0.105335   \n",
       "std                         0.633037                     0.395309   \n",
       "min                         0.000000                     0.000000   \n",
       "25%                         0.000000                     0.000000   \n",
       "50%                         0.000000                     0.000000   \n",
       "75%                         0.000000                     0.000000   \n",
       "max                         5.000000                     3.000000   \n",
       "\n",
       "       length_industry_list  \n",
       "count         320398.000000  \n",
       "mean               0.845611  \n",
       "std                0.884972  \n",
       "min                0.000000  \n",
       "25%                0.000000  \n",
       "50%                1.000000  \n",
       "75%                1.000000  \n",
       "max                5.000000  "
      ]
     },
     "execution_count": 122,
     "metadata": {},
     "output_type": "execute_result"
    }
   ],
   "source": [
    "pd.read_csv('cleared_data_no_exp.csv').describe()"
   ]
  },
  {
   "cell_type": "code",
   "execution_count": null,
   "metadata": {},
   "outputs": [],
   "source": []
  }
 ],
 "metadata": {
  "kernelspec": {
   "display_name": "Python 3",
   "language": "python",
   "name": "python3"
  },
  "language_info": {
   "codemirror_mode": {
    "name": "ipython",
    "version": 3
   },
   "file_extension": ".py",
   "mimetype": "text/x-python",
   "name": "python",
   "nbconvert_exporter": "python",
   "pygments_lexer": "ipython3",
   "version": "3.10.12"
  }
 },
 "nbformat": 4,
 "nbformat_minor": 2
}
