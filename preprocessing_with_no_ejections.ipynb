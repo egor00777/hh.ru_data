{
 "cells": [
  {
   "cell_type": "markdown",
   "metadata": {},
   "source": [
    "# Необходимые библиотеки"
   ]
  },
  {
   "cell_type": "code",
   "execution_count": 7,
   "metadata": {},
   "outputs": [],
   "source": [
    "import pandas as pd\n",
    "import numpy as np"
   ]
  },
  {
   "cell_type": "code",
   "execution_count": 8,
   "metadata": {},
   "outputs": [],
   "source": [
    "import seaborn as sns\n",
    "import matplotlib.pyplot as plt"
   ]
  },
  {
   "cell_type": "code",
   "execution_count": 9,
   "metadata": {},
   "outputs": [],
   "source": [
    "import warnings"
   ]
  },
  {
   "cell_type": "code",
   "execution_count": 10,
   "metadata": {},
   "outputs": [],
   "source": [
    "warnings.filterwarnings('ignore')"
   ]
  },
  {
   "cell_type": "markdown",
   "metadata": {},
   "source": [
    "# Загрузка данных"
   ]
  },
  {
   "cell_type": "code",
   "execution_count": 11,
   "metadata": {},
   "outputs": [
    {
     "data": {
      "text/html": [
       "<div>\n",
       "<style scoped>\n",
       "    .dataframe tbody tr th:only-of-type {\n",
       "        vertical-align: middle;\n",
       "    }\n",
       "\n",
       "    .dataframe tbody tr th {\n",
       "        vertical-align: top;\n",
       "    }\n",
       "\n",
       "    .dataframe thead th {\n",
       "        text-align: right;\n",
       "    }\n",
       "</style>\n",
       "<table border=\"1\" class=\"dataframe\">\n",
       "  <thead>\n",
       "    <tr style=\"text-align: right;\">\n",
       "      <th></th>\n",
       "      <th>vacancy_id</th>\n",
       "      <th>employer_id</th>\n",
       "      <th>employees_number</th>\n",
       "      <th>creation_date</th>\n",
       "      <th>work_schedule</th>\n",
       "      <th>employment</th>\n",
       "      <th>length_of_employment</th>\n",
       "      <th>compensation_from</th>\n",
       "      <th>compensation_to</th>\n",
       "      <th>accept_teenagers</th>\n",
       "      <th>...</th>\n",
       "      <th>young_response_count</th>\n",
       "      <th>young_female_response_count</th>\n",
       "      <th>young_male_response_count</th>\n",
       "      <th>invitation_count</th>\n",
       "      <th>female_invitation_count</th>\n",
       "      <th>male_invitation_count</th>\n",
       "      <th>young_invitation_count</th>\n",
       "      <th>young_female_invitation_count</th>\n",
       "      <th>young_male_invitation_count</th>\n",
       "      <th>industry_id_list</th>\n",
       "    </tr>\n",
       "  </thead>\n",
       "  <tbody>\n",
       "    <tr>\n",
       "      <th>0</th>\n",
       "      <td>77424192</td>\n",
       "      <td>2571258</td>\n",
       "      <td>300</td>\n",
       "      <td>2023-02-27</td>\n",
       "      <td>full_day</td>\n",
       "      <td>full</td>\n",
       "      <td>up_to_3_years</td>\n",
       "      <td>35000.0</td>\n",
       "      <td>0.0</td>\n",
       "      <td>False</td>\n",
       "      <td>...</td>\n",
       "      <td>4</td>\n",
       "      <td>4</td>\n",
       "      <td>0</td>\n",
       "      <td>21</td>\n",
       "      <td>21</td>\n",
       "      <td>0</td>\n",
       "      <td>0</td>\n",
       "      <td>0</td>\n",
       "      <td>0</td>\n",
       "      <td>[48]</td>\n",
       "    </tr>\n",
       "    <tr>\n",
       "      <th>1</th>\n",
       "      <td>78161908</td>\n",
       "      <td>4809555</td>\n",
       "      <td>50</td>\n",
       "      <td>2023-03-17</td>\n",
       "      <td>shift</td>\n",
       "      <td>full</td>\n",
       "      <td>no_experience</td>\n",
       "      <td>22500.0</td>\n",
       "      <td>NaN</td>\n",
       "      <td>False</td>\n",
       "      <td>...</td>\n",
       "      <td>5</td>\n",
       "      <td>4</td>\n",
       "      <td>1</td>\n",
       "      <td>26</td>\n",
       "      <td>26</td>\n",
       "      <td>0</td>\n",
       "      <td>2</td>\n",
       "      <td>2</td>\n",
       "      <td>0</td>\n",
       "      <td>[None]</td>\n",
       "    </tr>\n",
       "    <tr>\n",
       "      <th>2</th>\n",
       "      <td>79496395</td>\n",
       "      <td>5667513</td>\n",
       "      <td>5</td>\n",
       "      <td>2023-04-19</td>\n",
       "      <td>shift</td>\n",
       "      <td>full</td>\n",
       "      <td>up_to_3_years</td>\n",
       "      <td>24000.0</td>\n",
       "      <td>30000.0</td>\n",
       "      <td>False</td>\n",
       "      <td>...</td>\n",
       "      <td>2</td>\n",
       "      <td>2</td>\n",
       "      <td>0</td>\n",
       "      <td>3</td>\n",
       "      <td>3</td>\n",
       "      <td>0</td>\n",
       "      <td>0</td>\n",
       "      <td>0</td>\n",
       "      <td>0</td>\n",
       "      <td>[None]</td>\n",
       "    </tr>\n",
       "    <tr>\n",
       "      <th>3</th>\n",
       "      <td>87102246</td>\n",
       "      <td>1072323</td>\n",
       "      <td>0</td>\n",
       "      <td>2023-09-21</td>\n",
       "      <td>full_day</td>\n",
       "      <td>full</td>\n",
       "      <td>up_to_3_years</td>\n",
       "      <td>50000.0</td>\n",
       "      <td>NaN</td>\n",
       "      <td>False</td>\n",
       "      <td>...</td>\n",
       "      <td>0</td>\n",
       "      <td>0</td>\n",
       "      <td>0</td>\n",
       "      <td>9</td>\n",
       "      <td>7</td>\n",
       "      <td>2</td>\n",
       "      <td>0</td>\n",
       "      <td>0</td>\n",
       "      <td>0</td>\n",
       "      <td>[7, 8]</td>\n",
       "    </tr>\n",
       "    <tr>\n",
       "      <th>4</th>\n",
       "      <td>76367381</td>\n",
       "      <td>1160192</td>\n",
       "      <td>0</td>\n",
       "      <td>2023-01-30</td>\n",
       "      <td>full_day</td>\n",
       "      <td>full</td>\n",
       "      <td>up_to_3_years</td>\n",
       "      <td>55000.0</td>\n",
       "      <td>150000.0</td>\n",
       "      <td>False</td>\n",
       "      <td>...</td>\n",
       "      <td>0</td>\n",
       "      <td>0</td>\n",
       "      <td>0</td>\n",
       "      <td>49</td>\n",
       "      <td>39</td>\n",
       "      <td>10</td>\n",
       "      <td>0</td>\n",
       "      <td>0</td>\n",
       "      <td>0</td>\n",
       "      <td>[5, 13]</td>\n",
       "    </tr>\n",
       "  </tbody>\n",
       "</table>\n",
       "<p>5 rows × 25 columns</p>\n",
       "</div>"
      ],
      "text/plain": [
       "   vacancy_id  employer_id  employees_number creation_date work_schedule  \\\n",
       "0    77424192      2571258               300    2023-02-27      full_day   \n",
       "1    78161908      4809555                50    2023-03-17         shift   \n",
       "2    79496395      5667513                 5    2023-04-19         shift   \n",
       "3    87102246      1072323                 0    2023-09-21      full_day   \n",
       "4    76367381      1160192                 0    2023-01-30      full_day   \n",
       "\n",
       "  employment length_of_employment  compensation_from  compensation_to  \\\n",
       "0       full        up_to_3_years            35000.0              0.0   \n",
       "1       full        no_experience            22500.0              NaN   \n",
       "2       full        up_to_3_years            24000.0          30000.0   \n",
       "3       full        up_to_3_years            50000.0              NaN   \n",
       "4       full        up_to_3_years            55000.0         150000.0   \n",
       "\n",
       "   accept_teenagers  ... young_response_count young_female_response_count  \\\n",
       "0             False  ...                    4                           4   \n",
       "1             False  ...                    5                           4   \n",
       "2             False  ...                    2                           2   \n",
       "3             False  ...                    0                           0   \n",
       "4             False  ...                    0                           0   \n",
       "\n",
       "   young_male_response_count  invitation_count  female_invitation_count  \\\n",
       "0                          0                21                       21   \n",
       "1                          1                26                       26   \n",
       "2                          0                 3                        3   \n",
       "3                          0                 9                        7   \n",
       "4                          0                49                       39   \n",
       "\n",
       "   male_invitation_count  young_invitation_count  \\\n",
       "0                      0                       0   \n",
       "1                      0                       2   \n",
       "2                      0                       0   \n",
       "3                      2                       0   \n",
       "4                     10                       0   \n",
       "\n",
       "   young_female_invitation_count  young_male_invitation_count  \\\n",
       "0                              0                            0   \n",
       "1                              2                            0   \n",
       "2                              0                            0   \n",
       "3                              0                            0   \n",
       "4                              0                            0   \n",
       "\n",
       "   industry_id_list  \n",
       "0              [48]  \n",
       "1            [None]  \n",
       "2            [None]  \n",
       "3            [7, 8]  \n",
       "4           [5, 13]  \n",
       "\n",
       "[5 rows x 25 columns]"
      ]
     },
     "execution_count": 11,
     "metadata": {},
     "output_type": "execute_result"
    }
   ],
   "source": [
    "data = pd.read_csv('hh ru DATASET.csv')\n",
    "data.head()"
   ]
  },
  {
   "cell_type": "code",
   "execution_count": 12,
   "metadata": {},
   "outputs": [],
   "source": [
    "original_shape = data.shape"
   ]
  },
  {
   "cell_type": "markdown",
   "metadata": {},
   "source": [
    "# Обработка выбросов"
   ]
  },
  {
   "cell_type": "code",
   "execution_count": 13,
   "metadata": {},
   "outputs": [],
   "source": [
    "#num_cols = data.select_dtypes('number').columns.drop(['vacancy_id', 'employer_id'])"
   ]
  },
  {
   "cell_type": "code",
   "execution_count": 14,
   "metadata": {},
   "outputs": [],
   "source": [
    "#fig, axis = plt.subplots(1, 5, figsize=(20, 5))\n",
    "\n",
    "#sns.boxplot(data=data['employees_number'], ax=axis[0])\n",
    "#sns.boxplot(data=data['compensation_from'], ax=axis[1])\n",
    "#sns.boxplot(data=data['compensation_to'], ax=axis[2])\n",
    "#sns.boxplot(data=data['response_count'], ax=axis[3])\n",
    "#sns.boxplot(data=data['invitation_count'], ax=axis[4])\n",
    "\n",
    "#plt.tight_layout()\n",
    "#plt.show()"
   ]
  },
  {
   "cell_type": "code",
   "execution_count": 15,
   "metadata": {},
   "outputs": [],
   "source": [
    "#garbage = []\n",
    "\n",
    "#for num_col in num_cols:\n",
    "#    upper_bound = data[num_col].quantile(0.975)\n",
    "#    if 'compensation' in num_col:\n",
    "#        lower_bound = data[data[num_col] != 0][num_col].quantile(0.003)\n",
    "#        ejections = data[(data[num_col] > upper_bound) | (data[num_col] < lower_bound) & (data[num_col] != 0)]\n",
    "#    else:\n",
    "#        ejections = data[data[num_col] > upper_bound]\n",
    "#\n",
    "#    garbage.extend(ejections.index.tolist())\n",
    "\n",
    "#garbage = list(set(garbage))\n",
    "#data = data.drop(garbage).reset_index(drop=True)"
   ]
  },
  {
   "cell_type": "code",
   "execution_count": 16,
   "metadata": {},
   "outputs": [],
   "source": [
    "#fig, axis = plt.subplots(1, 5, figsize=(20, 5))\n",
    "\n",
    "#sns.boxplot(data=data['employees_number'], ax=axis[0])\n",
    "#sns.boxplot(data=data['compensation_from'], ax=axis[1])\n",
    "#sns.boxplot(data=data['compensation_to'], ax=axis[2])\n",
    "#sns.boxplot(data=data['response_count'], ax=axis[3])\n",
    "#sns.boxplot(data=data['invitation_count'], ax=axis[4])\n",
    "\n",
    "#plt.tight_layout()\n",
    "#plt.show()"
   ]
  },
  {
   "cell_type": "code",
   "execution_count": 17,
   "metadata": {},
   "outputs": [
    {
     "data": {
      "text/plain": [
       "0.0"
      ]
     },
     "execution_count": 17,
     "metadata": {},
     "output_type": "execute_result"
    }
   ],
   "source": [
    "round(1 - data.shape[0] / original_shape[0], 3)"
   ]
  },
  {
   "cell_type": "markdown",
   "metadata": {},
   "source": [
    "# Удаление некорректных данных"
   ]
  },
  {
   "cell_type": "markdown",
   "metadata": {},
   "source": [
    "### Нами было обнаружено несоответствие количеств откликов и/или приглашений"
   ]
  },
  {
   "cell_type": "code",
   "execution_count": 18,
   "metadata": {},
   "outputs": [
    {
     "data": {
      "text/plain": [
       "9389"
      ]
     },
     "execution_count": 18,
     "metadata": {},
     "output_type": "execute_result"
    }
   ],
   "source": [
    "len(data[data['response_count'] != data['female_response_count'] + data['male_response_count']])"
   ]
  },
  {
   "cell_type": "code",
   "execution_count": 19,
   "metadata": {},
   "outputs": [
    {
     "data": {
      "text/plain": [
       "66"
      ]
     },
     "execution_count": 19,
     "metadata": {},
     "output_type": "execute_result"
    }
   ],
   "source": [
    "len(data[data['young_response_count'] != data['young_female_response_count'] + data['young_male_response_count']])"
   ]
  },
  {
   "cell_type": "code",
   "execution_count": 20,
   "metadata": {},
   "outputs": [
    {
     "data": {
      "text/plain": [
       "4775"
      ]
     },
     "execution_count": 20,
     "metadata": {},
     "output_type": "execute_result"
    }
   ],
   "source": [
    "len(data[data['invitation_count'] != data['female_invitation_count'] + data['male_invitation_count']])"
   ]
  },
  {
   "cell_type": "code",
   "execution_count": 21,
   "metadata": {},
   "outputs": [
    {
     "data": {
      "text/plain": [
       "35"
      ]
     },
     "execution_count": 21,
     "metadata": {},
     "output_type": "execute_result"
    }
   ],
   "source": [
    "len(data[data['young_invitation_count'] != data['young_female_invitation_count'] + data['young_male_invitation_count']])"
   ]
  },
  {
   "cell_type": "code",
   "execution_count": 22,
   "metadata": {},
   "outputs": [],
   "source": [
    "data = data[data['response_count'] == data['female_response_count'] + data['male_response_count']]\n",
    "data = data[data['young_response_count'] == data['young_female_response_count'] + data['young_male_response_count']]\n",
    "data = data[data['invitation_count'] == data['female_invitation_count'] + data['male_invitation_count']]\n",
    "data = data[data['young_invitation_count'] == data['young_female_invitation_count'] + data['young_male_invitation_count']]"
   ]
  },
  {
   "cell_type": "markdown",
   "metadata": {},
   "source": [
    "### Также проверим, что количество всех приглашенных больше количества молодых приглашенных"
   ]
  },
  {
   "cell_type": "code",
   "execution_count": 23,
   "metadata": {},
   "outputs": [
    {
     "data": {
      "text/plain": [
       "(True, True)"
      ]
     },
     "execution_count": 23,
     "metadata": {},
     "output_type": "execute_result"
    }
   ],
   "source": [
    "all(data['response_count'] >= data['young_response_count']), all(data['invitation_count'] >= data['young_invitation_count'])"
   ]
  },
  {
   "cell_type": "markdown",
   "metadata": {},
   "source": [
    "### Данные неточности показывали некорректность данных, поэтому их мы удалили, а не заменили"
   ]
  },
  {
   "cell_type": "markdown",
   "metadata": {},
   "source": [
    "# Удаление дубликатов"
   ]
  },
  {
   "cell_type": "markdown",
   "metadata": {},
   "source": [
    "На дубликатах строится наш исследовательский вопрос, поэтому их мы не удаляем, глобальных же дубликатов не обнаружено"
   ]
  },
  {
   "cell_type": "code",
   "execution_count": 24,
   "metadata": {},
   "outputs": [
    {
     "data": {
      "text/plain": [
       "0"
      ]
     },
     "execution_count": 24,
     "metadata": {},
     "output_type": "execute_result"
    }
   ],
   "source": [
    "sum(data.duplicated())"
   ]
  },
  {
   "cell_type": "markdown",
   "metadata": {},
   "source": [
    "# Обработка пропусков"
   ]
  },
  {
   "cell_type": "code",
   "execution_count": 25,
   "metadata": {},
   "outputs": [
    {
     "data": {
      "text/plain": [
       "compensation_from     32632\n",
       "compensation_to      115415\n",
       "dtype: int64"
      ]
     },
     "execution_count": 25,
     "metadata": {},
     "output_type": "execute_result"
    }
   ],
   "source": [
    "data.isna().sum()[data.isnull().sum() != 0]"
   ]
  },
  {
   "cell_type": "markdown",
   "metadata": {},
   "source": [
    "Пропуски наблюдаются только в признаках, связанных с зарплатой. \n",
    "\n",
    "Такие пропуски объясняются нежеланием работадателя устанавливать однозначные границы зарплаты или простым игнорированием"
   ]
  },
  {
   "cell_type": "markdown",
   "metadata": {},
   "source": [
    "Помимо этого так же есть много нулевых значений в compensation_from и compensation_to"
   ]
  },
  {
   "cell_type": "code",
   "execution_count": 26,
   "metadata": {},
   "outputs": [
    {
     "data": {
      "text/plain": [
       "6504"
      ]
     },
     "execution_count": 26,
     "metadata": {},
     "output_type": "execute_result"
    }
   ],
   "source": [
    "data[data['compensation_from'] == 0].shape[0]"
   ]
  },
  {
   "cell_type": "code",
   "execution_count": 27,
   "metadata": {},
   "outputs": [
    {
     "data": {
      "text/plain": [
       "50690"
      ]
     },
     "execution_count": 27,
     "metadata": {},
     "output_type": "execute_result"
    }
   ],
   "source": [
    "data[data['compensation_to'] == 0].shape[0]"
   ]
  },
  {
   "cell_type": "markdown",
   "metadata": {},
   "source": [
    "Их также необходимо обратить в nan, так как 0 - это всё равно, что отсутствие данных"
   ]
  },
  {
   "cell_type": "markdown",
   "metadata": {},
   "source": [
    "Мы также проверили на всякий случай, если 0 - зарплаты волонтёров, так как им не платят, но оказалось, что это не так"
   ]
  },
  {
   "cell_type": "code",
   "execution_count": 28,
   "metadata": {},
   "outputs": [
    {
     "data": {
      "text/html": [
       "<div>\n",
       "<style scoped>\n",
       "    .dataframe tbody tr th:only-of-type {\n",
       "        vertical-align: middle;\n",
       "    }\n",
       "\n",
       "    .dataframe tbody tr th {\n",
       "        vertical-align: top;\n",
       "    }\n",
       "\n",
       "    .dataframe thead th {\n",
       "        text-align: right;\n",
       "    }\n",
       "</style>\n",
       "<table border=\"1\" class=\"dataframe\">\n",
       "  <thead>\n",
       "    <tr style=\"text-align: right;\">\n",
       "      <th></th>\n",
       "      <th>vacancy_id</th>\n",
       "      <th>employer_id</th>\n",
       "      <th>employees_number</th>\n",
       "      <th>creation_date</th>\n",
       "      <th>work_schedule</th>\n",
       "      <th>employment</th>\n",
       "      <th>length_of_employment</th>\n",
       "      <th>compensation_from</th>\n",
       "      <th>compensation_to</th>\n",
       "      <th>accept_teenagers</th>\n",
       "      <th>...</th>\n",
       "      <th>young_response_count</th>\n",
       "      <th>young_female_response_count</th>\n",
       "      <th>young_male_response_count</th>\n",
       "      <th>invitation_count</th>\n",
       "      <th>female_invitation_count</th>\n",
       "      <th>male_invitation_count</th>\n",
       "      <th>young_invitation_count</th>\n",
       "      <th>young_female_invitation_count</th>\n",
       "      <th>young_male_invitation_count</th>\n",
       "      <th>industry_id_list</th>\n",
       "    </tr>\n",
       "  </thead>\n",
       "  <tbody>\n",
       "    <tr>\n",
       "      <th>49839</th>\n",
       "      <td>81902096</td>\n",
       "      <td>2818876</td>\n",
       "      <td>0</td>\n",
       "      <td>2023-06-14</td>\n",
       "      <td>shift</td>\n",
       "      <td>volonteer</td>\n",
       "      <td>up_to_3_years</td>\n",
       "      <td>35000.0</td>\n",
       "      <td>50000.0</td>\n",
       "      <td>False</td>\n",
       "      <td>...</td>\n",
       "      <td>0</td>\n",
       "      <td>0</td>\n",
       "      <td>0</td>\n",
       "      <td>12</td>\n",
       "      <td>4</td>\n",
       "      <td>8</td>\n",
       "      <td>0</td>\n",
       "      <td>0</td>\n",
       "      <td>0</td>\n",
       "      <td>[None]</td>\n",
       "    </tr>\n",
       "    <tr>\n",
       "      <th>145838</th>\n",
       "      <td>80948808</td>\n",
       "      <td>3036416</td>\n",
       "      <td>100</td>\n",
       "      <td>2023-05-24</td>\n",
       "      <td>flexible</td>\n",
       "      <td>volonteer</td>\n",
       "      <td>no_experience</td>\n",
       "      <td>NaN</td>\n",
       "      <td>69000.0</td>\n",
       "      <td>False</td>\n",
       "      <td>...</td>\n",
       "      <td>67</td>\n",
       "      <td>50</td>\n",
       "      <td>17</td>\n",
       "      <td>1</td>\n",
       "      <td>1</td>\n",
       "      <td>0</td>\n",
       "      <td>0</td>\n",
       "      <td>0</td>\n",
       "      <td>0</td>\n",
       "      <td>[44]</td>\n",
       "    </tr>\n",
       "    <tr>\n",
       "      <th>227995</th>\n",
       "      <td>77374703</td>\n",
       "      <td>8980856</td>\n",
       "      <td>1</td>\n",
       "      <td>2023-02-24</td>\n",
       "      <td>flexible</td>\n",
       "      <td>volonteer</td>\n",
       "      <td>no_experience</td>\n",
       "      <td>NaN</td>\n",
       "      <td>NaN</td>\n",
       "      <td>False</td>\n",
       "      <td>...</td>\n",
       "      <td>0</td>\n",
       "      <td>0</td>\n",
       "      <td>0</td>\n",
       "      <td>4</td>\n",
       "      <td>0</td>\n",
       "      <td>4</td>\n",
       "      <td>0</td>\n",
       "      <td>0</td>\n",
       "      <td>0</td>\n",
       "      <td>[None]</td>\n",
       "    </tr>\n",
       "    <tr>\n",
       "      <th>357412</th>\n",
       "      <td>77073973</td>\n",
       "      <td>2818876</td>\n",
       "      <td>0</td>\n",
       "      <td>2023-02-16</td>\n",
       "      <td>shift</td>\n",
       "      <td>volonteer</td>\n",
       "      <td>up_to_3_years</td>\n",
       "      <td>35000.0</td>\n",
       "      <td>50000.0</td>\n",
       "      <td>False</td>\n",
       "      <td>...</td>\n",
       "      <td>0</td>\n",
       "      <td>0</td>\n",
       "      <td>0</td>\n",
       "      <td>10</td>\n",
       "      <td>0</td>\n",
       "      <td>10</td>\n",
       "      <td>0</td>\n",
       "      <td>0</td>\n",
       "      <td>0</td>\n",
       "      <td>[None]</td>\n",
       "    </tr>\n",
       "  </tbody>\n",
       "</table>\n",
       "<p>4 rows × 25 columns</p>\n",
       "</div>"
      ],
      "text/plain": [
       "        vacancy_id  employer_id  employees_number creation_date work_schedule  \\\n",
       "49839     81902096      2818876                 0    2023-06-14         shift   \n",
       "145838    80948808      3036416               100    2023-05-24      flexible   \n",
       "227995    77374703      8980856                 1    2023-02-24      flexible   \n",
       "357412    77073973      2818876                 0    2023-02-16         shift   \n",
       "\n",
       "       employment length_of_employment  compensation_from  compensation_to  \\\n",
       "49839   volonteer        up_to_3_years            35000.0          50000.0   \n",
       "145838  volonteer        no_experience                NaN          69000.0   \n",
       "227995  volonteer        no_experience                NaN              NaN   \n",
       "357412  volonteer        up_to_3_years            35000.0          50000.0   \n",
       "\n",
       "        accept_teenagers  ... young_response_count  \\\n",
       "49839              False  ...                    0   \n",
       "145838             False  ...                   67   \n",
       "227995             False  ...                    0   \n",
       "357412             False  ...                    0   \n",
       "\n",
       "       young_female_response_count  young_male_response_count  \\\n",
       "49839                            0                          0   \n",
       "145838                          50                         17   \n",
       "227995                           0                          0   \n",
       "357412                           0                          0   \n",
       "\n",
       "        invitation_count  female_invitation_count  male_invitation_count  \\\n",
       "49839                 12                        4                      8   \n",
       "145838                 1                        1                      0   \n",
       "227995                 4                        0                      4   \n",
       "357412                10                        0                     10   \n",
       "\n",
       "        young_invitation_count  young_female_invitation_count  \\\n",
       "49839                        0                              0   \n",
       "145838                       0                              0   \n",
       "227995                       0                              0   \n",
       "357412                       0                              0   \n",
       "\n",
       "        young_male_invitation_count  industry_id_list  \n",
       "49839                             0            [None]  \n",
       "145838                            0              [44]  \n",
       "227995                            0            [None]  \n",
       "357412                            0            [None]  \n",
       "\n",
       "[4 rows x 25 columns]"
      ]
     },
     "execution_count": 28,
     "metadata": {},
     "output_type": "execute_result"
    }
   ],
   "source": [
    "data[data['employment'] == 'volonteer']"
   ]
  },
  {
   "cell_type": "markdown",
   "metadata": {},
   "source": [
    "### Также запишем новый категориальный столбец, который содержит информацию о том, содержались ли nan в зарплате"
   ]
  },
  {
   "cell_type": "code",
   "execution_count": 29,
   "metadata": {},
   "outputs": [],
   "source": [
    "data[['compensation_from', 'compensation_to']] = data[['compensation_from', 'compensation_to']].replace(0, np.nan)"
   ]
  },
  {
   "cell_type": "code",
   "execution_count": 30,
   "metadata": {},
   "outputs": [],
   "source": [
    "mask = data['compensation_from'].isna() | data['compensation_to'].isna()"
   ]
  },
  {
   "cell_type": "code",
   "execution_count": 31,
   "metadata": {},
   "outputs": [],
   "source": [
    "data['correct_salary'] = mask.apply(lambda x: 'approximately' if x else 'correct')"
   ]
  },
  {
   "cell_type": "code",
   "execution_count": 32,
   "metadata": {},
   "outputs": [
    {
     "data": {
      "text/html": [
       "<div>\n",
       "<style scoped>\n",
       "    .dataframe tbody tr th:only-of-type {\n",
       "        vertical-align: middle;\n",
       "    }\n",
       "\n",
       "    .dataframe tbody tr th {\n",
       "        vertical-align: top;\n",
       "    }\n",
       "\n",
       "    .dataframe thead th {\n",
       "        text-align: right;\n",
       "    }\n",
       "</style>\n",
       "<table border=\"1\" class=\"dataframe\">\n",
       "  <thead>\n",
       "    <tr style=\"text-align: right;\">\n",
       "      <th></th>\n",
       "      <th>vacancy_id</th>\n",
       "      <th>employer_id</th>\n",
       "      <th>employees_number</th>\n",
       "      <th>creation_date</th>\n",
       "      <th>work_schedule</th>\n",
       "      <th>employment</th>\n",
       "      <th>length_of_employment</th>\n",
       "      <th>compensation_from</th>\n",
       "      <th>compensation_to</th>\n",
       "      <th>accept_teenagers</th>\n",
       "      <th>...</th>\n",
       "      <th>young_female_response_count</th>\n",
       "      <th>young_male_response_count</th>\n",
       "      <th>invitation_count</th>\n",
       "      <th>female_invitation_count</th>\n",
       "      <th>male_invitation_count</th>\n",
       "      <th>young_invitation_count</th>\n",
       "      <th>young_female_invitation_count</th>\n",
       "      <th>young_male_invitation_count</th>\n",
       "      <th>industry_id_list</th>\n",
       "      <th>correct_salary</th>\n",
       "    </tr>\n",
       "  </thead>\n",
       "  <tbody>\n",
       "    <tr>\n",
       "      <th>0</th>\n",
       "      <td>77424192</td>\n",
       "      <td>2571258</td>\n",
       "      <td>300</td>\n",
       "      <td>2023-02-27</td>\n",
       "      <td>full_day</td>\n",
       "      <td>full</td>\n",
       "      <td>up_to_3_years</td>\n",
       "      <td>35000.0</td>\n",
       "      <td>NaN</td>\n",
       "      <td>False</td>\n",
       "      <td>...</td>\n",
       "      <td>4</td>\n",
       "      <td>0</td>\n",
       "      <td>21</td>\n",
       "      <td>21</td>\n",
       "      <td>0</td>\n",
       "      <td>0</td>\n",
       "      <td>0</td>\n",
       "      <td>0</td>\n",
       "      <td>[48]</td>\n",
       "      <td>approximately</td>\n",
       "    </tr>\n",
       "    <tr>\n",
       "      <th>1</th>\n",
       "      <td>78161908</td>\n",
       "      <td>4809555</td>\n",
       "      <td>50</td>\n",
       "      <td>2023-03-17</td>\n",
       "      <td>shift</td>\n",
       "      <td>full</td>\n",
       "      <td>no_experience</td>\n",
       "      <td>22500.0</td>\n",
       "      <td>NaN</td>\n",
       "      <td>False</td>\n",
       "      <td>...</td>\n",
       "      <td>4</td>\n",
       "      <td>1</td>\n",
       "      <td>26</td>\n",
       "      <td>26</td>\n",
       "      <td>0</td>\n",
       "      <td>2</td>\n",
       "      <td>2</td>\n",
       "      <td>0</td>\n",
       "      <td>[None]</td>\n",
       "      <td>approximately</td>\n",
       "    </tr>\n",
       "    <tr>\n",
       "      <th>2</th>\n",
       "      <td>79496395</td>\n",
       "      <td>5667513</td>\n",
       "      <td>5</td>\n",
       "      <td>2023-04-19</td>\n",
       "      <td>shift</td>\n",
       "      <td>full</td>\n",
       "      <td>up_to_3_years</td>\n",
       "      <td>24000.0</td>\n",
       "      <td>30000.0</td>\n",
       "      <td>False</td>\n",
       "      <td>...</td>\n",
       "      <td>2</td>\n",
       "      <td>0</td>\n",
       "      <td>3</td>\n",
       "      <td>3</td>\n",
       "      <td>0</td>\n",
       "      <td>0</td>\n",
       "      <td>0</td>\n",
       "      <td>0</td>\n",
       "      <td>[None]</td>\n",
       "      <td>correct</td>\n",
       "    </tr>\n",
       "    <tr>\n",
       "      <th>3</th>\n",
       "      <td>87102246</td>\n",
       "      <td>1072323</td>\n",
       "      <td>0</td>\n",
       "      <td>2023-09-21</td>\n",
       "      <td>full_day</td>\n",
       "      <td>full</td>\n",
       "      <td>up_to_3_years</td>\n",
       "      <td>50000.0</td>\n",
       "      <td>NaN</td>\n",
       "      <td>False</td>\n",
       "      <td>...</td>\n",
       "      <td>0</td>\n",
       "      <td>0</td>\n",
       "      <td>9</td>\n",
       "      <td>7</td>\n",
       "      <td>2</td>\n",
       "      <td>0</td>\n",
       "      <td>0</td>\n",
       "      <td>0</td>\n",
       "      <td>[7, 8]</td>\n",
       "      <td>approximately</td>\n",
       "    </tr>\n",
       "    <tr>\n",
       "      <th>4</th>\n",
       "      <td>76367381</td>\n",
       "      <td>1160192</td>\n",
       "      <td>0</td>\n",
       "      <td>2023-01-30</td>\n",
       "      <td>full_day</td>\n",
       "      <td>full</td>\n",
       "      <td>up_to_3_years</td>\n",
       "      <td>55000.0</td>\n",
       "      <td>150000.0</td>\n",
       "      <td>False</td>\n",
       "      <td>...</td>\n",
       "      <td>0</td>\n",
       "      <td>0</td>\n",
       "      <td>49</td>\n",
       "      <td>39</td>\n",
       "      <td>10</td>\n",
       "      <td>0</td>\n",
       "      <td>0</td>\n",
       "      <td>0</td>\n",
       "      <td>[5, 13]</td>\n",
       "      <td>correct</td>\n",
       "    </tr>\n",
       "    <tr>\n",
       "      <th>...</th>\n",
       "      <td>...</td>\n",
       "      <td>...</td>\n",
       "      <td>...</td>\n",
       "      <td>...</td>\n",
       "      <td>...</td>\n",
       "      <td>...</td>\n",
       "      <td>...</td>\n",
       "      <td>...</td>\n",
       "      <td>...</td>\n",
       "      <td>...</td>\n",
       "      <td>...</td>\n",
       "      <td>...</td>\n",
       "      <td>...</td>\n",
       "      <td>...</td>\n",
       "      <td>...</td>\n",
       "      <td>...</td>\n",
       "      <td>...</td>\n",
       "      <td>...</td>\n",
       "      <td>...</td>\n",
       "      <td>...</td>\n",
       "      <td>...</td>\n",
       "    </tr>\n",
       "    <tr>\n",
       "      <th>377760</th>\n",
       "      <td>87825374</td>\n",
       "      <td>3558</td>\n",
       "      <td>7000</td>\n",
       "      <td>2023-10-06</td>\n",
       "      <td>flyInFlyOut</td>\n",
       "      <td>full</td>\n",
       "      <td>up_to_3_years</td>\n",
       "      <td>96780.0</td>\n",
       "      <td>NaN</td>\n",
       "      <td>False</td>\n",
       "      <td>...</td>\n",
       "      <td>0</td>\n",
       "      <td>0</td>\n",
       "      <td>9</td>\n",
       "      <td>8</td>\n",
       "      <td>1</td>\n",
       "      <td>0</td>\n",
       "      <td>0</td>\n",
       "      <td>0</td>\n",
       "      <td>[50]</td>\n",
       "      <td>approximately</td>\n",
       "    </tr>\n",
       "    <tr>\n",
       "      <th>377761</th>\n",
       "      <td>77397135</td>\n",
       "      <td>4446306</td>\n",
       "      <td>2</td>\n",
       "      <td>2023-02-27</td>\n",
       "      <td>remote</td>\n",
       "      <td>full</td>\n",
       "      <td>above_6_years</td>\n",
       "      <td>100000.0</td>\n",
       "      <td>150000.0</td>\n",
       "      <td>False</td>\n",
       "      <td>...</td>\n",
       "      <td>0</td>\n",
       "      <td>0</td>\n",
       "      <td>5</td>\n",
       "      <td>3</td>\n",
       "      <td>2</td>\n",
       "      <td>0</td>\n",
       "      <td>0</td>\n",
       "      <td>0</td>\n",
       "      <td>[7]</td>\n",
       "      <td>correct</td>\n",
       "    </tr>\n",
       "    <tr>\n",
       "      <th>377762</th>\n",
       "      <td>75924698</td>\n",
       "      <td>2067104</td>\n",
       "      <td>0</td>\n",
       "      <td>2023-01-18</td>\n",
       "      <td>shift</td>\n",
       "      <td>full</td>\n",
       "      <td>up_to_3_years</td>\n",
       "      <td>35000.0</td>\n",
       "      <td>40000.0</td>\n",
       "      <td>False</td>\n",
       "      <td>...</td>\n",
       "      <td>0</td>\n",
       "      <td>0</td>\n",
       "      <td>34</td>\n",
       "      <td>34</td>\n",
       "      <td>0</td>\n",
       "      <td>0</td>\n",
       "      <td>0</td>\n",
       "      <td>0</td>\n",
       "      <td>[None]</td>\n",
       "      <td>correct</td>\n",
       "    </tr>\n",
       "    <tr>\n",
       "      <th>377763</th>\n",
       "      <td>84486705</td>\n",
       "      <td>1838</td>\n",
       "      <td>0</td>\n",
       "      <td>2023-08-03</td>\n",
       "      <td>full_day</td>\n",
       "      <td>full</td>\n",
       "      <td>up_to_3_years</td>\n",
       "      <td>85000.0</td>\n",
       "      <td>NaN</td>\n",
       "      <td>False</td>\n",
       "      <td>...</td>\n",
       "      <td>0</td>\n",
       "      <td>0</td>\n",
       "      <td>1</td>\n",
       "      <td>0</td>\n",
       "      <td>1</td>\n",
       "      <td>0</td>\n",
       "      <td>0</td>\n",
       "      <td>0</td>\n",
       "      <td>[44]</td>\n",
       "      <td>approximately</td>\n",
       "    </tr>\n",
       "    <tr>\n",
       "      <th>377764</th>\n",
       "      <td>87254076</td>\n",
       "      <td>6070792</td>\n",
       "      <td>10</td>\n",
       "      <td>2023-09-25</td>\n",
       "      <td>full_day</td>\n",
       "      <td>full</td>\n",
       "      <td>no_experience</td>\n",
       "      <td>40000.0</td>\n",
       "      <td>60000.0</td>\n",
       "      <td>False</td>\n",
       "      <td>...</td>\n",
       "      <td>0</td>\n",
       "      <td>0</td>\n",
       "      <td>10</td>\n",
       "      <td>0</td>\n",
       "      <td>10</td>\n",
       "      <td>0</td>\n",
       "      <td>0</td>\n",
       "      <td>0</td>\n",
       "      <td>[None]</td>\n",
       "      <td>correct</td>\n",
       "    </tr>\n",
       "  </tbody>\n",
       "</table>\n",
       "<p>368279 rows × 26 columns</p>\n",
       "</div>"
      ],
      "text/plain": [
       "        vacancy_id  employer_id  employees_number creation_date work_schedule  \\\n",
       "0         77424192      2571258               300    2023-02-27      full_day   \n",
       "1         78161908      4809555                50    2023-03-17         shift   \n",
       "2         79496395      5667513                 5    2023-04-19         shift   \n",
       "3         87102246      1072323                 0    2023-09-21      full_day   \n",
       "4         76367381      1160192                 0    2023-01-30      full_day   \n",
       "...            ...          ...               ...           ...           ...   \n",
       "377760    87825374         3558              7000    2023-10-06   flyInFlyOut   \n",
       "377761    77397135      4446306                 2    2023-02-27        remote   \n",
       "377762    75924698      2067104                 0    2023-01-18         shift   \n",
       "377763    84486705         1838                 0    2023-08-03      full_day   \n",
       "377764    87254076      6070792                10    2023-09-25      full_day   \n",
       "\n",
       "       employment length_of_employment  compensation_from  compensation_to  \\\n",
       "0            full        up_to_3_years            35000.0              NaN   \n",
       "1            full        no_experience            22500.0              NaN   \n",
       "2            full        up_to_3_years            24000.0          30000.0   \n",
       "3            full        up_to_3_years            50000.0              NaN   \n",
       "4            full        up_to_3_years            55000.0         150000.0   \n",
       "...           ...                  ...                ...              ...   \n",
       "377760       full        up_to_3_years            96780.0              NaN   \n",
       "377761       full        above_6_years           100000.0         150000.0   \n",
       "377762       full        up_to_3_years            35000.0          40000.0   \n",
       "377763       full        up_to_3_years            85000.0              NaN   \n",
       "377764       full        no_experience            40000.0          60000.0   \n",
       "\n",
       "        accept_teenagers  ... young_female_response_count  \\\n",
       "0                  False  ...                           4   \n",
       "1                  False  ...                           4   \n",
       "2                  False  ...                           2   \n",
       "3                  False  ...                           0   \n",
       "4                  False  ...                           0   \n",
       "...                  ...  ...                         ...   \n",
       "377760             False  ...                           0   \n",
       "377761             False  ...                           0   \n",
       "377762             False  ...                           0   \n",
       "377763             False  ...                           0   \n",
       "377764             False  ...                           0   \n",
       "\n",
       "       young_male_response_count  invitation_count  female_invitation_count  \\\n",
       "0                              0                21                       21   \n",
       "1                              1                26                       26   \n",
       "2                              0                 3                        3   \n",
       "3                              0                 9                        7   \n",
       "4                              0                49                       39   \n",
       "...                          ...               ...                      ...   \n",
       "377760                         0                 9                        8   \n",
       "377761                         0                 5                        3   \n",
       "377762                         0                34                       34   \n",
       "377763                         0                 1                        0   \n",
       "377764                         0                10                        0   \n",
       "\n",
       "        male_invitation_count  young_invitation_count  \\\n",
       "0                           0                       0   \n",
       "1                           0                       2   \n",
       "2                           0                       0   \n",
       "3                           2                       0   \n",
       "4                          10                       0   \n",
       "...                       ...                     ...   \n",
       "377760                      1                       0   \n",
       "377761                      2                       0   \n",
       "377762                      0                       0   \n",
       "377763                      1                       0   \n",
       "377764                     10                       0   \n",
       "\n",
       "        young_female_invitation_count  young_male_invitation_count  \\\n",
       "0                                   0                            0   \n",
       "1                                   2                            0   \n",
       "2                                   0                            0   \n",
       "3                                   0                            0   \n",
       "4                                   0                            0   \n",
       "...                               ...                          ...   \n",
       "377760                              0                            0   \n",
       "377761                              0                            0   \n",
       "377762                              0                            0   \n",
       "377763                              0                            0   \n",
       "377764                              0                            0   \n",
       "\n",
       "        industry_id_list  correct_salary  \n",
       "0                   [48]   approximately  \n",
       "1                 [None]   approximately  \n",
       "2                 [None]         correct  \n",
       "3                 [7, 8]   approximately  \n",
       "4                [5, 13]         correct  \n",
       "...                  ...             ...  \n",
       "377760              [50]   approximately  \n",
       "377761               [7]         correct  \n",
       "377762            [None]         correct  \n",
       "377763              [44]   approximately  \n",
       "377764            [None]         correct  \n",
       "\n",
       "[368279 rows x 26 columns]"
      ]
     },
     "execution_count": 32,
     "metadata": {},
     "output_type": "execute_result"
    }
   ],
   "source": [
    "data"
   ]
  },
  {
   "cell_type": "markdown",
   "metadata": {},
   "source": [
    "Теперь заменим все nans в compensation_from на медианную зарплату данной профессии. Такое решение содержит множество допущений, ведь есть множество факторов, влияющих на 'compensation_from', но 'specialization' мы посчитали наиболее значимым и достаточным (как аргумент, там нет пропусков и на каждое уникальное значение в среднем 15000 сэмплов)"
   ]
  },
  {
   "cell_type": "markdown",
   "metadata": {},
   "source": [
    "Технически также можно взять медианную более мелких групп, вроде сочетаний профессии и региона, профессии и работодателя, но эти группы могут быть крайне маленькими или вообще не быть, что неинформативно, поэтому мы посчитали, что только профессии будет достаточно."
   ]
  },
  {
   "cell_type": "markdown",
   "metadata": {},
   "source": [
    "##### Также мы посчитали коэффициент корреляции eta для пар: 'compensation_from' и 'specialization', 'compensation_from' и 'region_name'"
   ]
  },
  {
   "cell_type": "code",
   "execution_count": 33,
   "metadata": {},
   "outputs": [],
   "source": [
    "def get_eta_correlation(categorical_col):\n",
    "    groups = [data['compensation_from'][data[categorical_col] == value] for value in data[categorical_col].unique()]\n",
    "        \n",
    "    total_variance = np.var(data['compensation_from'])\n",
    "    group_means = [g.mean() for g in groups]\n",
    "    group_sizes = [len(g) for g in groups]\n",
    "    group_variance = sum(size * (mean - data['compensation_from'].mean()) ** 2 for size, mean in zip(group_sizes, group_means)) / len(data)\n",
    "\n",
    "    return np.round(group_variance / total_variance, 3)"
   ]
  },
  {
   "cell_type": "code",
   "execution_count": 34,
   "metadata": {},
   "outputs": [
    {
     "data": {
      "text/plain": [
       "0.274"
      ]
     },
     "execution_count": 34,
     "metadata": {},
     "output_type": "execute_result"
    }
   ],
   "source": [
    "get_eta_correlation('specialization')"
   ]
  },
  {
   "cell_type": "code",
   "execution_count": 35,
   "metadata": {},
   "outputs": [
    {
     "data": {
      "text/plain": [
       "0.024"
      ]
     },
     "execution_count": 35,
     "metadata": {},
     "output_type": "execute_result"
    }
   ],
   "source": [
    "get_eta_correlation('region_name')"
   ]
  },
  {
   "cell_type": "markdown",
   "metadata": {},
   "source": [
    "Заметим, что специализация влияет на зарплату гораздо значимее, чем регион"
   ]
  },
  {
   "cell_type": "code",
   "execution_count": 36,
   "metadata": {},
   "outputs": [],
   "source": [
    "data['compensation_from'] = data['compensation_from'].fillna(\n",
    "    data.groupby('specialization')['compensation_from'].transform('median')\n",
    ")"
   ]
  },
  {
   "cell_type": "code",
   "execution_count": 37,
   "metadata": {},
   "outputs": [
    {
     "data": {
      "text/plain": [
       "4438"
      ]
     },
     "execution_count": 37,
     "metadata": {},
     "output_type": "execute_result"
    }
   ],
   "source": [
    "'''случаи, где compensation_from > compensation_to'''\n",
    "\n",
    "data[(data['compensation_from'] > data['compensation_to']) & (data['compensation_to'] != 0)].shape[0]"
   ]
  },
  {
   "cell_type": "markdown",
   "metadata": {},
   "source": [
    "Также есть данные, где compensation_from, в которой мы заполняли пропуски, больше чем compensation_to. В таких случаях мы опустим compensation_from до уровня compensation_to"
   ]
  },
  {
   "cell_type": "code",
   "execution_count": 38,
   "metadata": {},
   "outputs": [],
   "source": [
    "data.loc[(data['compensation_from'] > data['compensation_to']) & (data['compensation_to'] != 0), 'compensation_from'] = data['compensation_to']"
   ]
  },
  {
   "cell_type": "code",
   "execution_count": 39,
   "metadata": {},
   "outputs": [],
   "source": [
    "data['compensation_to'] = data['compensation_to'].fillna(data['compensation_from'])"
   ]
  },
  {
   "cell_type": "code",
   "execution_count": 40,
   "metadata": {},
   "outputs": [
    {
     "data": {
      "text/plain": [
       "0"
      ]
     },
     "execution_count": 40,
     "metadata": {},
     "output_type": "execute_result"
    }
   ],
   "source": [
    "sum(data.isnull().sum())"
   ]
  },
  {
   "cell_type": "markdown",
   "metadata": {},
   "source": [
    "# Дополнительные колонки"
   ]
  },
  {
   "cell_type": "markdown",
   "metadata": {},
   "source": [
    "Добавим данные о длине списка id индустрий"
   ]
  },
  {
   "cell_type": "code",
   "execution_count": 41,
   "metadata": {},
   "outputs": [],
   "source": [
    "data['industry_id_list'] = data['industry_id_list'].apply(eval)"
   ]
  },
  {
   "cell_type": "code",
   "execution_count": 42,
   "metadata": {},
   "outputs": [],
   "source": [
    "data['length_industry_list'] = data['industry_id_list'].apply(lambda x: len(x) if int(bool(x[0])) else 0)"
   ]
  },
  {
   "cell_type": "code",
   "execution_count": 43,
   "metadata": {},
   "outputs": [
    {
     "data": {
      "text/plain": [
       "length_industry_list\n",
       "0    151223\n",
       "1    140631\n",
       "2     61242\n",
       "3     12529\n",
       "4      2275\n",
       "5       379\n",
       "Name: count, dtype: int64"
      ]
     },
     "execution_count": 43,
     "metadata": {},
     "output_type": "execute_result"
    }
   ],
   "source": [
    "data['length_industry_list'].value_counts()"
   ]
  },
  {
   "cell_type": "markdown",
   "metadata": {},
   "source": [
    "# Сохранение датасета"
   ]
  },
  {
   "cell_type": "code",
   "execution_count": 44,
   "metadata": {},
   "outputs": [],
   "source": [
    "data.to_csv('cleared_data_no_exp.csv', index=False)"
   ]
  },
  {
   "cell_type": "code",
   "execution_count": 45,
   "metadata": {},
   "outputs": [
    {
     "data": {
      "text/html": [
       "<div>\n",
       "<style scoped>\n",
       "    .dataframe tbody tr th:only-of-type {\n",
       "        vertical-align: middle;\n",
       "    }\n",
       "\n",
       "    .dataframe tbody tr th {\n",
       "        vertical-align: top;\n",
       "    }\n",
       "\n",
       "    .dataframe thead th {\n",
       "        text-align: right;\n",
       "    }\n",
       "</style>\n",
       "<table border=\"1\" class=\"dataframe\">\n",
       "  <thead>\n",
       "    <tr style=\"text-align: right;\">\n",
       "      <th></th>\n",
       "      <th>vacancy_id</th>\n",
       "      <th>employer_id</th>\n",
       "      <th>employees_number</th>\n",
       "      <th>compensation_from</th>\n",
       "      <th>compensation_to</th>\n",
       "      <th>response_count</th>\n",
       "      <th>female_response_count</th>\n",
       "      <th>male_response_count</th>\n",
       "      <th>young_response_count</th>\n",
       "      <th>young_female_response_count</th>\n",
       "      <th>young_male_response_count</th>\n",
       "      <th>invitation_count</th>\n",
       "      <th>female_invitation_count</th>\n",
       "      <th>male_invitation_count</th>\n",
       "      <th>young_invitation_count</th>\n",
       "      <th>young_female_invitation_count</th>\n",
       "      <th>young_male_invitation_count</th>\n",
       "      <th>length_industry_list</th>\n",
       "    </tr>\n",
       "  </thead>\n",
       "  <tbody>\n",
       "    <tr>\n",
       "      <th>count</th>\n",
       "      <td>3.682790e+05</td>\n",
       "      <td>3.682790e+05</td>\n",
       "      <td>368279.000000</td>\n",
       "      <td>3.682790e+05</td>\n",
       "      <td>3.682790e+05</td>\n",
       "      <td>368279.000000</td>\n",
       "      <td>368279.000000</td>\n",
       "      <td>368279.000000</td>\n",
       "      <td>368279.000000</td>\n",
       "      <td>368279.000000</td>\n",
       "      <td>368279.000000</td>\n",
       "      <td>368279.000000</td>\n",
       "      <td>368279.000000</td>\n",
       "      <td>368279.000000</td>\n",
       "      <td>368279.000000</td>\n",
       "      <td>368279.000000</td>\n",
       "      <td>368279.000000</td>\n",
       "      <td>368279.000000</td>\n",
       "    </tr>\n",
       "    <tr>\n",
       "      <th>mean</th>\n",
       "      <td>8.355033e+07</td>\n",
       "      <td>3.527593e+06</td>\n",
       "      <td>9426.058950</td>\n",
       "      <td>5.372587e+04</td>\n",
       "      <td>6.948788e+04</td>\n",
       "      <td>22.787552</td>\n",
       "      <td>13.474485</td>\n",
       "      <td>9.313067</td>\n",
       "      <td>1.811485</td>\n",
       "      <td>1.177488</td>\n",
       "      <td>0.633998</td>\n",
       "      <td>17.453067</td>\n",
       "      <td>10.070175</td>\n",
       "      <td>7.382892</td>\n",
       "      <td>0.911184</td>\n",
       "      <td>0.583080</td>\n",
       "      <td>0.328105</td>\n",
       "      <td>0.846361</td>\n",
       "    </tr>\n",
       "    <tr>\n",
       "      <th>std</th>\n",
       "      <td>4.569188e+06</td>\n",
       "      <td>3.134877e+06</td>\n",
       "      <td>45434.024982</td>\n",
       "      <td>3.177095e+04</td>\n",
       "      <td>5.049795e+04</td>\n",
       "      <td>52.050955</td>\n",
       "      <td>39.276758</td>\n",
       "      <td>20.838503</td>\n",
       "      <td>7.742204</td>\n",
       "      <td>5.330763</td>\n",
       "      <td>2.933670</td>\n",
       "      <td>48.294500</td>\n",
       "      <td>35.407356</td>\n",
       "      <td>20.737687</td>\n",
       "      <td>5.741346</td>\n",
       "      <td>3.834673</td>\n",
       "      <td>2.205923</td>\n",
       "      <td>0.872613</td>\n",
       "    </tr>\n",
       "    <tr>\n",
       "      <th>min</th>\n",
       "      <td>7.453818e+07</td>\n",
       "      <td>6.000000e+00</td>\n",
       "      <td>0.000000</td>\n",
       "      <td>1.000000e+00</td>\n",
       "      <td>1.300000e+01</td>\n",
       "      <td>1.000000</td>\n",
       "      <td>0.000000</td>\n",
       "      <td>0.000000</td>\n",
       "      <td>0.000000</td>\n",
       "      <td>0.000000</td>\n",
       "      <td>0.000000</td>\n",
       "      <td>1.000000</td>\n",
       "      <td>0.000000</td>\n",
       "      <td>0.000000</td>\n",
       "      <td>0.000000</td>\n",
       "      <td>0.000000</td>\n",
       "      <td>0.000000</td>\n",
       "      <td>0.000000</td>\n",
       "    </tr>\n",
       "    <tr>\n",
       "      <th>25%</th>\n",
       "      <td>7.964190e+07</td>\n",
       "      <td>8.597140e+05</td>\n",
       "      <td>1.000000</td>\n",
       "      <td>3.500000e+04</td>\n",
       "      <td>4.000000e+04</td>\n",
       "      <td>4.000000</td>\n",
       "      <td>1.000000</td>\n",
       "      <td>1.000000</td>\n",
       "      <td>0.000000</td>\n",
       "      <td>0.000000</td>\n",
       "      <td>0.000000</td>\n",
       "      <td>2.000000</td>\n",
       "      <td>0.000000</td>\n",
       "      <td>0.000000</td>\n",
       "      <td>0.000000</td>\n",
       "      <td>0.000000</td>\n",
       "      <td>0.000000</td>\n",
       "      <td>0.000000</td>\n",
       "    </tr>\n",
       "    <tr>\n",
       "      <th>50%</th>\n",
       "      <td>8.360487e+07</td>\n",
       "      <td>2.967686e+06</td>\n",
       "      <td>50.000000</td>\n",
       "      <td>4.500000e+04</td>\n",
       "      <td>5.000000e+04</td>\n",
       "      <td>10.000000</td>\n",
       "      <td>4.000000</td>\n",
       "      <td>4.000000</td>\n",
       "      <td>0.000000</td>\n",
       "      <td>0.000000</td>\n",
       "      <td>0.000000</td>\n",
       "      <td>6.000000</td>\n",
       "      <td>2.000000</td>\n",
       "      <td>2.000000</td>\n",
       "      <td>0.000000</td>\n",
       "      <td>0.000000</td>\n",
       "      <td>0.000000</td>\n",
       "      <td>1.000000</td>\n",
       "    </tr>\n",
       "    <tr>\n",
       "      <th>75%</th>\n",
       "      <td>8.767547e+07</td>\n",
       "      <td>5.195285e+06</td>\n",
       "      <td>1100.000000</td>\n",
       "      <td>6.000000e+04</td>\n",
       "      <td>8.000000e+04</td>\n",
       "      <td>22.000000</td>\n",
       "      <td>12.000000</td>\n",
       "      <td>9.000000</td>\n",
       "      <td>1.000000</td>\n",
       "      <td>0.000000</td>\n",
       "      <td>0.000000</td>\n",
       "      <td>17.000000</td>\n",
       "      <td>9.000000</td>\n",
       "      <td>6.000000</td>\n",
       "      <td>0.000000</td>\n",
       "      <td>0.000000</td>\n",
       "      <td>0.000000</td>\n",
       "      <td>1.000000</td>\n",
       "    </tr>\n",
       "    <tr>\n",
       "      <th>max</th>\n",
       "      <td>9.116080e+07</td>\n",
       "      <td>1.123410e+07</td>\n",
       "      <td>682000.000000</td>\n",
       "      <td>1.500000e+06</td>\n",
       "      <td>3.000000e+06</td>\n",
       "      <td>5538.000000</td>\n",
       "      <td>4534.000000</td>\n",
       "      <td>1014.000000</td>\n",
       "      <td>608.000000</td>\n",
       "      <td>399.000000</td>\n",
       "      <td>231.000000</td>\n",
       "      <td>5805.000000</td>\n",
       "      <td>4752.000000</td>\n",
       "      <td>2007.000000</td>\n",
       "      <td>691.000000</td>\n",
       "      <td>434.000000</td>\n",
       "      <td>257.000000</td>\n",
       "      <td>5.000000</td>\n",
       "    </tr>\n",
       "  </tbody>\n",
       "</table>\n",
       "</div>"
      ],
      "text/plain": [
       "         vacancy_id   employer_id  employees_number  compensation_from  \\\n",
       "count  3.682790e+05  3.682790e+05     368279.000000       3.682790e+05   \n",
       "mean   8.355033e+07  3.527593e+06       9426.058950       5.372587e+04   \n",
       "std    4.569188e+06  3.134877e+06      45434.024982       3.177095e+04   \n",
       "min    7.453818e+07  6.000000e+00          0.000000       1.000000e+00   \n",
       "25%    7.964190e+07  8.597140e+05          1.000000       3.500000e+04   \n",
       "50%    8.360487e+07  2.967686e+06         50.000000       4.500000e+04   \n",
       "75%    8.767547e+07  5.195285e+06       1100.000000       6.000000e+04   \n",
       "max    9.116080e+07  1.123410e+07     682000.000000       1.500000e+06   \n",
       "\n",
       "       compensation_to  response_count  female_response_count  \\\n",
       "count     3.682790e+05   368279.000000          368279.000000   \n",
       "mean      6.948788e+04       22.787552              13.474485   \n",
       "std       5.049795e+04       52.050955              39.276758   \n",
       "min       1.300000e+01        1.000000               0.000000   \n",
       "25%       4.000000e+04        4.000000               1.000000   \n",
       "50%       5.000000e+04       10.000000               4.000000   \n",
       "75%       8.000000e+04       22.000000              12.000000   \n",
       "max       3.000000e+06     5538.000000            4534.000000   \n",
       "\n",
       "       male_response_count  young_response_count  young_female_response_count  \\\n",
       "count        368279.000000         368279.000000                368279.000000   \n",
       "mean              9.313067              1.811485                     1.177488   \n",
       "std              20.838503              7.742204                     5.330763   \n",
       "min               0.000000              0.000000                     0.000000   \n",
       "25%               1.000000              0.000000                     0.000000   \n",
       "50%               4.000000              0.000000                     0.000000   \n",
       "75%               9.000000              1.000000                     0.000000   \n",
       "max            1014.000000            608.000000                   399.000000   \n",
       "\n",
       "       young_male_response_count  invitation_count  female_invitation_count  \\\n",
       "count              368279.000000     368279.000000            368279.000000   \n",
       "mean                    0.633998         17.453067                10.070175   \n",
       "std                     2.933670         48.294500                35.407356   \n",
       "min                     0.000000          1.000000                 0.000000   \n",
       "25%                     0.000000          2.000000                 0.000000   \n",
       "50%                     0.000000          6.000000                 2.000000   \n",
       "75%                     0.000000         17.000000                 9.000000   \n",
       "max                   231.000000       5805.000000              4752.000000   \n",
       "\n",
       "       male_invitation_count  young_invitation_count  \\\n",
       "count          368279.000000           368279.000000   \n",
       "mean                7.382892                0.911184   \n",
       "std                20.737687                5.741346   \n",
       "min                 0.000000                0.000000   \n",
       "25%                 0.000000                0.000000   \n",
       "50%                 2.000000                0.000000   \n",
       "75%                 6.000000                0.000000   \n",
       "max              2007.000000              691.000000   \n",
       "\n",
       "       young_female_invitation_count  young_male_invitation_count  \\\n",
       "count                  368279.000000                368279.000000   \n",
       "mean                        0.583080                     0.328105   \n",
       "std                         3.834673                     2.205923   \n",
       "min                         0.000000                     0.000000   \n",
       "25%                         0.000000                     0.000000   \n",
       "50%                         0.000000                     0.000000   \n",
       "75%                         0.000000                     0.000000   \n",
       "max                       434.000000                   257.000000   \n",
       "\n",
       "       length_industry_list  \n",
       "count         368279.000000  \n",
       "mean               0.846361  \n",
       "std                0.872613  \n",
       "min                0.000000  \n",
       "25%                0.000000  \n",
       "50%                1.000000  \n",
       "75%                1.000000  \n",
       "max                5.000000  "
      ]
     },
     "execution_count": 45,
     "metadata": {},
     "output_type": "execute_result"
    }
   ],
   "source": [
    "pd.read_csv('cleared_data_no_exp.csv').describe()"
   ]
  },
  {
   "cell_type": "code",
   "execution_count": null,
   "metadata": {},
   "outputs": [],
   "source": []
  }
 ],
 "metadata": {
  "kernelspec": {
   "display_name": "Python 3",
   "language": "python",
   "name": "python3"
  },
  "language_info": {
   "codemirror_mode": {
    "name": "ipython",
    "version": 3
   },
   "file_extension": ".py",
   "mimetype": "text/x-python",
   "name": "python",
   "nbconvert_exporter": "python",
   "pygments_lexer": "ipython3",
   "version": "3.10.12"
  }
 },
 "nbformat": 4,
 "nbformat_minor": 2
}
