{
 "cells": [
  {
   "cell_type": "markdown",
   "metadata": {},
   "source": [
    "# Необходимые библиотеки"
   ]
  },
  {
   "cell_type": "code",
   "execution_count": 6,
   "metadata": {},
   "outputs": [],
   "source": [
    "import pandas as pd\n",
    "import numpy as np"
   ]
  },
  {
   "cell_type": "code",
   "execution_count": 7,
   "metadata": {},
   "outputs": [],
   "source": [
    "import seaborn as sns\n",
    "import matplotlib.pyplot as plt"
   ]
  },
  {
   "cell_type": "code",
   "execution_count": 8,
   "metadata": {},
   "outputs": [],
   "source": [
    "import warnings"
   ]
  },
  {
   "cell_type": "code",
   "execution_count": 9,
   "metadata": {},
   "outputs": [],
   "source": [
    "warnings.filterwarnings('ignore')"
   ]
  },
  {
   "cell_type": "markdown",
   "metadata": {},
   "source": [
    "# Загрузка данных"
   ]
  },
  {
   "cell_type": "code",
   "execution_count": 10,
   "metadata": {},
   "outputs": [
    {
     "data": {
      "text/html": [
       "<div>\n",
       "<style scoped>\n",
       "    .dataframe tbody tr th:only-of-type {\n",
       "        vertical-align: middle;\n",
       "    }\n",
       "\n",
       "    .dataframe tbody tr th {\n",
       "        vertical-align: top;\n",
       "    }\n",
       "\n",
       "    .dataframe thead th {\n",
       "        text-align: right;\n",
       "    }\n",
       "</style>\n",
       "<table border=\"1\" class=\"dataframe\">\n",
       "  <thead>\n",
       "    <tr style=\"text-align: right;\">\n",
       "      <th></th>\n",
       "      <th>vacancy_id</th>\n",
       "      <th>employer_id</th>\n",
       "      <th>employees_number</th>\n",
       "      <th>creation_date</th>\n",
       "      <th>work_schedule</th>\n",
       "      <th>employment</th>\n",
       "      <th>length_of_employment</th>\n",
       "      <th>compensation_from</th>\n",
       "      <th>compensation_to</th>\n",
       "      <th>accept_teenagers</th>\n",
       "      <th>...</th>\n",
       "      <th>young_response_count</th>\n",
       "      <th>young_female_response_count</th>\n",
       "      <th>young_male_response_count</th>\n",
       "      <th>invitation_count</th>\n",
       "      <th>female_invitation_count</th>\n",
       "      <th>male_invitation_count</th>\n",
       "      <th>young_invitation_count</th>\n",
       "      <th>young_female_invitation_count</th>\n",
       "      <th>young_male_invitation_count</th>\n",
       "      <th>industry_id_list</th>\n",
       "    </tr>\n",
       "  </thead>\n",
       "  <tbody>\n",
       "    <tr>\n",
       "      <th>0</th>\n",
       "      <td>77424192</td>\n",
       "      <td>2571258</td>\n",
       "      <td>300</td>\n",
       "      <td>2023-02-27</td>\n",
       "      <td>full_day</td>\n",
       "      <td>full</td>\n",
       "      <td>up_to_3_years</td>\n",
       "      <td>35000.0</td>\n",
       "      <td>0.0</td>\n",
       "      <td>False</td>\n",
       "      <td>...</td>\n",
       "      <td>4</td>\n",
       "      <td>4</td>\n",
       "      <td>0</td>\n",
       "      <td>21</td>\n",
       "      <td>21</td>\n",
       "      <td>0</td>\n",
       "      <td>0</td>\n",
       "      <td>0</td>\n",
       "      <td>0</td>\n",
       "      <td>[48]</td>\n",
       "    </tr>\n",
       "    <tr>\n",
       "      <th>1</th>\n",
       "      <td>78161908</td>\n",
       "      <td>4809555</td>\n",
       "      <td>50</td>\n",
       "      <td>2023-03-17</td>\n",
       "      <td>shift</td>\n",
       "      <td>full</td>\n",
       "      <td>no_experience</td>\n",
       "      <td>22500.0</td>\n",
       "      <td>NaN</td>\n",
       "      <td>False</td>\n",
       "      <td>...</td>\n",
       "      <td>5</td>\n",
       "      <td>4</td>\n",
       "      <td>1</td>\n",
       "      <td>26</td>\n",
       "      <td>26</td>\n",
       "      <td>0</td>\n",
       "      <td>2</td>\n",
       "      <td>2</td>\n",
       "      <td>0</td>\n",
       "      <td>[None]</td>\n",
       "    </tr>\n",
       "    <tr>\n",
       "      <th>2</th>\n",
       "      <td>79496395</td>\n",
       "      <td>5667513</td>\n",
       "      <td>5</td>\n",
       "      <td>2023-04-19</td>\n",
       "      <td>shift</td>\n",
       "      <td>full</td>\n",
       "      <td>up_to_3_years</td>\n",
       "      <td>24000.0</td>\n",
       "      <td>30000.0</td>\n",
       "      <td>False</td>\n",
       "      <td>...</td>\n",
       "      <td>2</td>\n",
       "      <td>2</td>\n",
       "      <td>0</td>\n",
       "      <td>3</td>\n",
       "      <td>3</td>\n",
       "      <td>0</td>\n",
       "      <td>0</td>\n",
       "      <td>0</td>\n",
       "      <td>0</td>\n",
       "      <td>[None]</td>\n",
       "    </tr>\n",
       "    <tr>\n",
       "      <th>3</th>\n",
       "      <td>87102246</td>\n",
       "      <td>1072323</td>\n",
       "      <td>0</td>\n",
       "      <td>2023-09-21</td>\n",
       "      <td>full_day</td>\n",
       "      <td>full</td>\n",
       "      <td>up_to_3_years</td>\n",
       "      <td>50000.0</td>\n",
       "      <td>NaN</td>\n",
       "      <td>False</td>\n",
       "      <td>...</td>\n",
       "      <td>0</td>\n",
       "      <td>0</td>\n",
       "      <td>0</td>\n",
       "      <td>9</td>\n",
       "      <td>7</td>\n",
       "      <td>2</td>\n",
       "      <td>0</td>\n",
       "      <td>0</td>\n",
       "      <td>0</td>\n",
       "      <td>[7, 8]</td>\n",
       "    </tr>\n",
       "    <tr>\n",
       "      <th>4</th>\n",
       "      <td>76367381</td>\n",
       "      <td>1160192</td>\n",
       "      <td>0</td>\n",
       "      <td>2023-01-30</td>\n",
       "      <td>full_day</td>\n",
       "      <td>full</td>\n",
       "      <td>up_to_3_years</td>\n",
       "      <td>55000.0</td>\n",
       "      <td>150000.0</td>\n",
       "      <td>False</td>\n",
       "      <td>...</td>\n",
       "      <td>0</td>\n",
       "      <td>0</td>\n",
       "      <td>0</td>\n",
       "      <td>49</td>\n",
       "      <td>39</td>\n",
       "      <td>10</td>\n",
       "      <td>0</td>\n",
       "      <td>0</td>\n",
       "      <td>0</td>\n",
       "      <td>[5, 13]</td>\n",
       "    </tr>\n",
       "  </tbody>\n",
       "</table>\n",
       "<p>5 rows × 25 columns</p>\n",
       "</div>"
      ],
      "text/plain": [
       "   vacancy_id  employer_id  employees_number creation_date work_schedule  \\\n",
       "0    77424192      2571258               300    2023-02-27      full_day   \n",
       "1    78161908      4809555                50    2023-03-17         shift   \n",
       "2    79496395      5667513                 5    2023-04-19         shift   \n",
       "3    87102246      1072323                 0    2023-09-21      full_day   \n",
       "4    76367381      1160192                 0    2023-01-30      full_day   \n",
       "\n",
       "  employment length_of_employment  compensation_from  compensation_to  \\\n",
       "0       full        up_to_3_years            35000.0              0.0   \n",
       "1       full        no_experience            22500.0              NaN   \n",
       "2       full        up_to_3_years            24000.0          30000.0   \n",
       "3       full        up_to_3_years            50000.0              NaN   \n",
       "4       full        up_to_3_years            55000.0         150000.0   \n",
       "\n",
       "   accept_teenagers  ... young_response_count young_female_response_count  \\\n",
       "0             False  ...                    4                           4   \n",
       "1             False  ...                    5                           4   \n",
       "2             False  ...                    2                           2   \n",
       "3             False  ...                    0                           0   \n",
       "4             False  ...                    0                           0   \n",
       "\n",
       "   young_male_response_count  invitation_count  female_invitation_count  \\\n",
       "0                          0                21                       21   \n",
       "1                          1                26                       26   \n",
       "2                          0                 3                        3   \n",
       "3                          0                 9                        7   \n",
       "4                          0                49                       39   \n",
       "\n",
       "   male_invitation_count  young_invitation_count  \\\n",
       "0                      0                       0   \n",
       "1                      0                       2   \n",
       "2                      0                       0   \n",
       "3                      2                       0   \n",
       "4                     10                       0   \n",
       "\n",
       "   young_female_invitation_count  young_male_invitation_count  \\\n",
       "0                              0                            0   \n",
       "1                              2                            0   \n",
       "2                              0                            0   \n",
       "3                              0                            0   \n",
       "4                              0                            0   \n",
       "\n",
       "   industry_id_list  \n",
       "0              [48]  \n",
       "1            [None]  \n",
       "2            [None]  \n",
       "3            [7, 8]  \n",
       "4           [5, 13]  \n",
       "\n",
       "[5 rows x 25 columns]"
      ]
     },
     "execution_count": 10,
     "metadata": {},
     "output_type": "execute_result"
    }
   ],
   "source": [
    "data = pd.read_csv('hh ru DATASET.csv')\n",
    "data.head()"
   ]
  },
  {
   "cell_type": "code",
   "execution_count": 11,
   "metadata": {},
   "outputs": [
    {
     "data": {
      "text/plain": [
       "(377765, 25)"
      ]
     },
     "execution_count": 11,
     "metadata": {},
     "output_type": "execute_result"
    }
   ],
   "source": [
    "original_shape = data.shape\n",
    "original_shape"
   ]
  },
  {
   "cell_type": "markdown",
   "metadata": {},
   "source": [
    "# Обработка выбросов"
   ]
  },
  {
   "cell_type": "markdown",
   "metadata": {},
   "source": [
    "#### Сначала проведём обработку выбросов, чтобы они не влияли на заполнение пропусков в дальнейшем"
   ]
  },
  {
   "cell_type": "markdown",
   "metadata": {},
   "source": [
    "#### Посмотрим на число грубых выбросов по столбцам"
   ]
  },
  {
   "cell_type": "code",
   "execution_count": 12,
   "metadata": {},
   "outputs": [],
   "source": [
    "num_cols = ['response_count', 'compensation_from', 'compensation_to']"
   ]
  },
  {
   "cell_type": "markdown",
   "metadata": {},
   "source": [
    "#### Посмотрим некоторые боксплоты"
   ]
  },
  {
   "cell_type": "code",
   "execution_count": 13,
   "metadata": {},
   "outputs": [
    {
     "data": {
      "image/png": "[encoded data removed]",
      "text/plain": [
       "<Figure size 1200x500 with 3 Axes>"
      ]
     },
     "metadata": {},
     "output_type": "display_data"
    }
   ],
   "source": [
    "fig, axis = plt.subplots(1, 3, figsize=(12, 5))\n",
    "\n",
    "sns.boxplot(data=data['compensation_from'], ax=axis[0])\n",
    "sns.boxplot(data=data['compensation_to'], ax=axis[1])\n",
    "sns.boxplot(data=data['response_count'], ax=axis[2])\n",
    "\n",
    "plt.tight_layout()\n",
    "plt.show()"
   ]
  },
  {
   "cell_type": "markdown",
   "metadata": {},
   "source": [
    "#### Выбросов не так много в отношении всего датасета, поэтому будем удалять их по методу 3-х сигм, а не заменять"
   ]
  },
  {
   "cell_type": "code",
   "execution_count": 14,
   "metadata": {},
   "outputs": [],
   "source": [
    "# garbage = []\n",
    "\n",
    "# for num_col in num_cols:\n",
    "#     IQR = data[data[num_col] != 0][num_col].quantile(0.75) - data[data[num_col] != 0][num_col].quantile(0.25)\n",
    "#     upper_bound = data[data[num_col] != 0][num_col].quantile(0.75) + 3 * IQR\n",
    "#     lower_bound = data[data[num_col] != 0][num_col].quantile(0.25) - 3 * IQR\n",
    "\n",
    "#     if 'compensation' in num_col:\n",
    "#         ejections = data[((data[num_col] > upper_bound) | (data[num_col] < lower_bound)) & (data[num_col] != 0)]\n",
    "#     else:\n",
    "#         ejections = data[data[num_col] > upper_bound]\n",
    "\n",
    "#     garbage.extend(ejections.index.tolist())\n",
    "\n",
    "# garbage = list(set(garbage))\n",
    "# data = data.drop(garbage).reset_index(drop=True)"
   ]
  },
  {
   "cell_type": "code",
   "execution_count": 15,
   "metadata": {},
   "outputs": [],
   "source": [
    "# garbage = []\n",
    "\n",
    "# for num_col in num_cols:\n",
    "#     upper_bound = data[data[num_col] != 0][num_col].quantile(0.975)\n",
    "#     lower_bound = data[data[num_col] != 0][num_col].quantile(0.003)\n",
    "\n",
    "#     if 'compensation' in num_col:\n",
    "#         ejections = data[((data[num_col] > upper_bound) | (data[num_col] < lower_bound)) & (data[num_col] != 0)]\n",
    "#     else:\n",
    "#         ejections = data[data[num_col] > upper_bound]\n",
    "\n",
    "#     garbage.extend(ejections.index.tolist())\n",
    "\n",
    "# garbage = list(set(garbage))\n",
    "# data = data.drop(garbage).reset_index(drop=True)"
   ]
  },
  {
   "cell_type": "code",
   "execution_count": 16,
   "metadata": {},
   "outputs": [],
   "source": [
    "lower_bound_1 = data[data['compensation_from'] != 0]['compensation_from'].quantile(0.01)\n",
    "lower_bound_2 = data[data['compensation_to'] != 0]['compensation_to'].quantile(0.01)"
   ]
  },
  {
   "cell_type": "code",
   "execution_count": 17,
   "metadata": {},
   "outputs": [
    {
     "data": {
      "text/plain": [
       "18000.0"
      ]
     },
     "execution_count": 17,
     "metadata": {},
     "output_type": "execute_result"
    }
   ],
   "source": [
    "lower_bound_2"
   ]
  },
  {
   "cell_type": "code",
   "execution_count": 18,
   "metadata": {},
   "outputs": [],
   "source": [
    "data = data[(data['compensation_from'] <= 400_000) | (data['compensation_from'].isna())]\n",
    "data = data[(data['compensation_to'] <= 1_000_000) | (data['compensation_to'].isna())]\n",
    "data = data[data['response_count'] <= 3400]"
   ]
  },
  {
   "cell_type": "code",
   "execution_count": 19,
   "metadata": {},
   "outputs": [],
   "source": [
    "data = data[(data['compensation_from'] >= lower_bound_1) | (data['compensation_from'].isna()) | (data['compensation_from'] == 0)]\n",
    "data = data[(data['compensation_to'] >= lower_bound_2) | (data['compensation_to'].isna()) | (data['compensation_to'] == 0)]"
   ]
  },
  {
   "cell_type": "code",
   "execution_count": 20,
   "metadata": {},
   "outputs": [
    {
     "data": {
      "image/png": "[encoded data removed]",
      "text/plain": [
       "<Figure size 1200x500 with 3 Axes>"
      ]
     },
     "metadata": {},
     "output_type": "display_data"
    }
   ],
   "source": [
    "fig, axis = plt.subplots(1, 3, figsize=(12, 5))\n",
    "\n",
    "sns.boxplot(data=data['compensation_from'], ax=axis[0])\n",
    "sns.boxplot(data=data['compensation_to'], ax=axis[1])\n",
    "sns.boxplot(data=data['response_count'], ax=axis[2])\n",
    "\n",
    "plt.tight_layout()\n",
    "plt.show()"
   ]
  },
  {
   "cell_type": "markdown",
   "metadata": {},
   "source": [
    "Можно сделать ложный вывод, что выбросов стало только больше, однако это уже новое распределение, а от настоящих выбросов мы избавились"
   ]
  },
  {
   "cell_type": "code",
   "execution_count": 21,
   "metadata": {},
   "outputs": [
    {
     "data": {
      "text/plain": [
       "0.0107"
      ]
     },
     "execution_count": 21,
     "metadata": {},
     "output_type": "execute_result"
    }
   ],
   "source": [
    "round(1 - data.shape[0] / original_shape[0], 4)"
   ]
  },
  {
   "cell_type": "code",
   "execution_count": 22,
   "metadata": {},
   "outputs": [
    {
     "data": {
      "text/plain": [
       "(373726, 25)"
      ]
     },
     "execution_count": 22,
     "metadata": {},
     "output_type": "execute_result"
    }
   ],
   "source": [
    "data.shape"
   ]
  },
  {
   "cell_type": "markdown",
   "metadata": {},
   "source": [
    "# Удаление некорректных данных"
   ]
  },
  {
   "cell_type": "markdown",
   "metadata": {},
   "source": [
    "### Нами было обнаружено несоответствие количеств откликов и/или приглашений"
   ]
  },
  {
   "cell_type": "code",
   "execution_count": 23,
   "metadata": {},
   "outputs": [
    {
     "data": {
      "text/plain": [
       "9121"
      ]
     },
     "execution_count": 23,
     "metadata": {},
     "output_type": "execute_result"
    }
   ],
   "source": [
    "len(data[data['response_count'] != data['female_response_count'] + data['male_response_count']])"
   ]
  },
  {
   "cell_type": "code",
   "execution_count": 24,
   "metadata": {},
   "outputs": [
    {
     "data": {
      "text/plain": [
       "62"
      ]
     },
     "execution_count": 24,
     "metadata": {},
     "output_type": "execute_result"
    }
   ],
   "source": [
    "len(data[data['young_response_count'] != data['young_female_response_count'] + data['young_male_response_count']])"
   ]
  },
  {
   "cell_type": "code",
   "execution_count": 25,
   "metadata": {},
   "outputs": [
    {
     "data": {
      "text/plain": [
       "4627"
      ]
     },
     "execution_count": 25,
     "metadata": {},
     "output_type": "execute_result"
    }
   ],
   "source": [
    "len(data[data['invitation_count'] != data['female_invitation_count'] + data['male_invitation_count']])"
   ]
  },
  {
   "cell_type": "code",
   "execution_count": 26,
   "metadata": {},
   "outputs": [
    {
     "data": {
      "text/plain": [
       "33"
      ]
     },
     "execution_count": 26,
     "metadata": {},
     "output_type": "execute_result"
    }
   ],
   "source": [
    "len(data[data['young_invitation_count'] != data['young_female_invitation_count'] + data['young_male_invitation_count']])"
   ]
  },
  {
   "cell_type": "code",
   "execution_count": 27,
   "metadata": {},
   "outputs": [],
   "source": [
    "data = data[data['response_count'] == data['female_response_count'] + data['male_response_count']]\n",
    "data = data[data['young_response_count'] == data['young_female_response_count'] + data['young_male_response_count']]\n",
    "data = data[data['invitation_count'] == data['female_invitation_count'] + data['male_invitation_count']]\n",
    "data = data[data['young_invitation_count'] == data['young_female_invitation_count'] + data['young_male_invitation_count']]"
   ]
  },
  {
   "cell_type": "markdown",
   "metadata": {},
   "source": [
    "### Также проверим, что количество всех приглашенных больше количества молодых приглашенных"
   ]
  },
  {
   "cell_type": "code",
   "execution_count": 28,
   "metadata": {},
   "outputs": [
    {
     "data": {
      "text/plain": [
       "(True, True)"
      ]
     },
     "execution_count": 28,
     "metadata": {},
     "output_type": "execute_result"
    }
   ],
   "source": [
    "all(data['response_count'] >= data['young_response_count']), all(data['invitation_count'] >= data['young_invitation_count'])"
   ]
  },
  {
   "cell_type": "markdown",
   "metadata": {},
   "source": [
    "### Данные неточности показывали некорректность данных, поэтому их мы удалили, а не заменили"
   ]
  },
  {
   "cell_type": "markdown",
   "metadata": {},
   "source": [
    "# Удаление дубликатов"
   ]
  },
  {
   "cell_type": "markdown",
   "metadata": {},
   "source": [
    "На дубликатах строится наш исследовательский вопрос, поэтому их мы не удаляем, глобальных же дубликатов не обнаружено"
   ]
  },
  {
   "cell_type": "code",
   "execution_count": 29,
   "metadata": {},
   "outputs": [
    {
     "data": {
      "text/plain": [
       "0"
      ]
     },
     "execution_count": 29,
     "metadata": {},
     "output_type": "execute_result"
    }
   ],
   "source": [
    "sum(data.duplicated())"
   ]
  },
  {
   "cell_type": "markdown",
   "metadata": {},
   "source": [
    "# Обработка пропусков"
   ]
  },
  {
   "cell_type": "code",
   "execution_count": 30,
   "metadata": {},
   "outputs": [
    {
     "data": {
      "text/plain": [
       "compensation_from     32373\n",
       "compensation_to      114663\n",
       "dtype: int64"
      ]
     },
     "execution_count": 30,
     "metadata": {},
     "output_type": "execute_result"
    }
   ],
   "source": [
    "data.isna().sum()[data.isnull().sum() != 0]"
   ]
  },
  {
   "cell_type": "markdown",
   "metadata": {},
   "source": [
    "Пропуски наблюдаются только в признаках, связанных с зарплатой. \n",
    "\n",
    "Такие пропуски объясняются нежеланием работадателя устанавливать однозначные границы зарплаты или простым игнорированием"
   ]
  },
  {
   "cell_type": "markdown",
   "metadata": {},
   "source": [
    "Помимо этого так же есть много нулевых значений в compensation_from и compensation_to"
   ]
  },
  {
   "cell_type": "code",
   "execution_count": 31,
   "metadata": {},
   "outputs": [
    {
     "data": {
      "text/plain": [
       "6357"
      ]
     },
     "execution_count": 31,
     "metadata": {},
     "output_type": "execute_result"
    }
   ],
   "source": [
    "data[data['compensation_from'] == 0].shape[0]"
   ]
  },
  {
   "cell_type": "code",
   "execution_count": 32,
   "metadata": {},
   "outputs": [
    {
     "data": {
      "text/plain": [
       "50347"
      ]
     },
     "execution_count": 32,
     "metadata": {},
     "output_type": "execute_result"
    }
   ],
   "source": [
    "data[data['compensation_to'] == 0].shape[0]"
   ]
  },
  {
   "cell_type": "markdown",
   "metadata": {},
   "source": [
    "Их также необходимо обратить в nan, так как 0 - это всё равно, что отсутствие данных"
   ]
  },
  {
   "cell_type": "markdown",
   "metadata": {},
   "source": [
    "Мы также проверили на всякий случай, если 0 - зарплаты волонтёров, так как им не платят, но оказалось, что это не так"
   ]
  },
  {
   "cell_type": "code",
   "execution_count": 33,
   "metadata": {},
   "outputs": [
    {
     "data": {
      "text/html": [
       "<div>\n",
       "<style scoped>\n",
       "    .dataframe tbody tr th:only-of-type {\n",
       "        vertical-align: middle;\n",
       "    }\n",
       "\n",
       "    .dataframe tbody tr th {\n",
       "        vertical-align: top;\n",
       "    }\n",
       "\n",
       "    .dataframe thead th {\n",
       "        text-align: right;\n",
       "    }\n",
       "</style>\n",
       "<table border=\"1\" class=\"dataframe\">\n",
       "  <thead>\n",
       "    <tr style=\"text-align: right;\">\n",
       "      <th></th>\n",
       "      <th>vacancy_id</th>\n",
       "      <th>employer_id</th>\n",
       "      <th>employees_number</th>\n",
       "      <th>creation_date</th>\n",
       "      <th>work_schedule</th>\n",
       "      <th>employment</th>\n",
       "      <th>length_of_employment</th>\n",
       "      <th>compensation_from</th>\n",
       "      <th>compensation_to</th>\n",
       "      <th>accept_teenagers</th>\n",
       "      <th>...</th>\n",
       "      <th>young_response_count</th>\n",
       "      <th>young_female_response_count</th>\n",
       "      <th>young_male_response_count</th>\n",
       "      <th>invitation_count</th>\n",
       "      <th>female_invitation_count</th>\n",
       "      <th>male_invitation_count</th>\n",
       "      <th>young_invitation_count</th>\n",
       "      <th>young_female_invitation_count</th>\n",
       "      <th>young_male_invitation_count</th>\n",
       "      <th>industry_id_list</th>\n",
       "    </tr>\n",
       "  </thead>\n",
       "  <tbody>\n",
       "    <tr>\n",
       "      <th>49839</th>\n",
       "      <td>81902096</td>\n",
       "      <td>2818876</td>\n",
       "      <td>0</td>\n",
       "      <td>2023-06-14</td>\n",
       "      <td>shift</td>\n",
       "      <td>volonteer</td>\n",
       "      <td>up_to_3_years</td>\n",
       "      <td>35000.0</td>\n",
       "      <td>50000.0</td>\n",
       "      <td>False</td>\n",
       "      <td>...</td>\n",
       "      <td>0</td>\n",
       "      <td>0</td>\n",
       "      <td>0</td>\n",
       "      <td>12</td>\n",
       "      <td>4</td>\n",
       "      <td>8</td>\n",
       "      <td>0</td>\n",
       "      <td>0</td>\n",
       "      <td>0</td>\n",
       "      <td>[None]</td>\n",
       "    </tr>\n",
       "    <tr>\n",
       "      <th>145838</th>\n",
       "      <td>80948808</td>\n",
       "      <td>3036416</td>\n",
       "      <td>100</td>\n",
       "      <td>2023-05-24</td>\n",
       "      <td>flexible</td>\n",
       "      <td>volonteer</td>\n",
       "      <td>no_experience</td>\n",
       "      <td>NaN</td>\n",
       "      <td>69000.0</td>\n",
       "      <td>False</td>\n",
       "      <td>...</td>\n",
       "      <td>67</td>\n",
       "      <td>50</td>\n",
       "      <td>17</td>\n",
       "      <td>1</td>\n",
       "      <td>1</td>\n",
       "      <td>0</td>\n",
       "      <td>0</td>\n",
       "      <td>0</td>\n",
       "      <td>0</td>\n",
       "      <td>[44]</td>\n",
       "    </tr>\n",
       "    <tr>\n",
       "      <th>227995</th>\n",
       "      <td>77374703</td>\n",
       "      <td>8980856</td>\n",
       "      <td>1</td>\n",
       "      <td>2023-02-24</td>\n",
       "      <td>flexible</td>\n",
       "      <td>volonteer</td>\n",
       "      <td>no_experience</td>\n",
       "      <td>NaN</td>\n",
       "      <td>NaN</td>\n",
       "      <td>False</td>\n",
       "      <td>...</td>\n",
       "      <td>0</td>\n",
       "      <td>0</td>\n",
       "      <td>0</td>\n",
       "      <td>4</td>\n",
       "      <td>0</td>\n",
       "      <td>4</td>\n",
       "      <td>0</td>\n",
       "      <td>0</td>\n",
       "      <td>0</td>\n",
       "      <td>[None]</td>\n",
       "    </tr>\n",
       "    <tr>\n",
       "      <th>357412</th>\n",
       "      <td>77073973</td>\n",
       "      <td>2818876</td>\n",
       "      <td>0</td>\n",
       "      <td>2023-02-16</td>\n",
       "      <td>shift</td>\n",
       "      <td>volonteer</td>\n",
       "      <td>up_to_3_years</td>\n",
       "      <td>35000.0</td>\n",
       "      <td>50000.0</td>\n",
       "      <td>False</td>\n",
       "      <td>...</td>\n",
       "      <td>0</td>\n",
       "      <td>0</td>\n",
       "      <td>0</td>\n",
       "      <td>10</td>\n",
       "      <td>0</td>\n",
       "      <td>10</td>\n",
       "      <td>0</td>\n",
       "      <td>0</td>\n",
       "      <td>0</td>\n",
       "      <td>[None]</td>\n",
       "    </tr>\n",
       "  </tbody>\n",
       "</table>\n",
       "<p>4 rows × 25 columns</p>\n",
       "</div>"
      ],
      "text/plain": [
       "        vacancy_id  employer_id  employees_number creation_date work_schedule  \\\n",
       "49839     81902096      2818876                 0    2023-06-14         shift   \n",
       "145838    80948808      3036416               100    2023-05-24      flexible   \n",
       "227995    77374703      8980856                 1    2023-02-24      flexible   \n",
       "357412    77073973      2818876                 0    2023-02-16         shift   \n",
       "\n",
       "       employment length_of_employment  compensation_from  compensation_to  \\\n",
       "49839   volonteer        up_to_3_years            35000.0          50000.0   \n",
       "145838  volonteer        no_experience                NaN          69000.0   \n",
       "227995  volonteer        no_experience                NaN              NaN   \n",
       "357412  volonteer        up_to_3_years            35000.0          50000.0   \n",
       "\n",
       "        accept_teenagers  ... young_response_count  \\\n",
       "49839              False  ...                    0   \n",
       "145838             False  ...                   67   \n",
       "227995             False  ...                    0   \n",
       "357412             False  ...                    0   \n",
       "\n",
       "       young_female_response_count  young_male_response_count  \\\n",
       "49839                            0                          0   \n",
       "145838                          50                         17   \n",
       "227995                           0                          0   \n",
       "357412                           0                          0   \n",
       "\n",
       "        invitation_count  female_invitation_count  male_invitation_count  \\\n",
       "49839                 12                        4                      8   \n",
       "145838                 1                        1                      0   \n",
       "227995                 4                        0                      4   \n",
       "357412                10                        0                     10   \n",
       "\n",
       "        young_invitation_count  young_female_invitation_count  \\\n",
       "49839                        0                              0   \n",
       "145838                       0                              0   \n",
       "227995                       0                              0   \n",
       "357412                       0                              0   \n",
       "\n",
       "        young_male_invitation_count  industry_id_list  \n",
       "49839                             0            [None]  \n",
       "145838                            0              [44]  \n",
       "227995                            0            [None]  \n",
       "357412                            0            [None]  \n",
       "\n",
       "[4 rows x 25 columns]"
      ]
     },
     "execution_count": 33,
     "metadata": {},
     "output_type": "execute_result"
    }
   ],
   "source": [
    "data[data['employment'] == 'volonteer']"
   ]
  },
  {
   "cell_type": "markdown",
   "metadata": {},
   "source": [
    "### Также запишем новый категориальный столбец, который содержит информацию о том, содержались ли nan в зарплате"
   ]
  },
  {
   "cell_type": "code",
   "execution_count": 34,
   "metadata": {},
   "outputs": [],
   "source": [
    "data[['compensation_from', 'compensation_to']] = data[['compensation_from', 'compensation_to']].replace(0, np.nan)"
   ]
  },
  {
   "cell_type": "code",
   "execution_count": 35,
   "metadata": {},
   "outputs": [],
   "source": [
    "mask = data['compensation_from'].isna() | data['compensation_to'].isna()"
   ]
  },
  {
   "cell_type": "code",
   "execution_count": 36,
   "metadata": {},
   "outputs": [],
   "source": [
    "data['correct_salary'] = mask.apply(lambda x: 'approximately' if x else 'correct')"
   ]
  },
  {
   "cell_type": "markdown",
   "metadata": {},
   "source": [
    "Теперь заменим все nans в compensation_from на медианную зарплату данной профессии. Такое решение содержит множество допущений, ведь есть множество факторов, влияющих на 'compensation_from', но 'specialization' мы посчитали наиболее значимым и достаточным (как аргумент, там нет пропусков и на каждое уникальное значение в среднем 15000 сэмплов)"
   ]
  },
  {
   "cell_type": "markdown",
   "metadata": {},
   "source": [
    "Технически также можно взять медианную более мелких групп, вроде сочетаний профессии и региона, профессии и работодателя, но эти группы могут быть крайне маленькими или вообще не быть, что неинформативно, поэтому мы посчитали, что только профессии будет достаточно."
   ]
  },
  {
   "cell_type": "markdown",
   "metadata": {},
   "source": [
    "##### Также мы посчитали коэффициент корреляции eta для пар: 'compensation_from' и 'specialization', 'compensation_from' и 'region_name'"
   ]
  },
  {
   "cell_type": "code",
   "execution_count": 37,
   "metadata": {},
   "outputs": [],
   "source": [
    "def get_eta_correlation(categorical_col):\n",
    "    groups = [data['compensation_from'][data[categorical_col] == value] for value in data[categorical_col].unique()]\n",
    "        \n",
    "    total_variance = np.var(data['compensation_from'])\n",
    "    group_means = [g.mean() for g in groups]\n",
    "    group_sizes = [len(g) for g in groups]\n",
    "    group_variance = sum(size * (mean - data['compensation_from'].mean()) ** 2 for size, mean in zip(group_sizes, group_means)) / len(data)\n",
    "\n",
    "    return np.round(group_variance / total_variance, 3)"
   ]
  },
  {
   "cell_type": "code",
   "execution_count": 38,
   "metadata": {},
   "outputs": [
    {
     "data": {
      "text/plain": [
       "0.282"
      ]
     },
     "execution_count": 38,
     "metadata": {},
     "output_type": "execute_result"
    }
   ],
   "source": [
    "get_eta_correlation('specialization')"
   ]
  },
  {
   "cell_type": "code",
   "execution_count": 39,
   "metadata": {},
   "outputs": [
    {
     "data": {
      "text/plain": [
       "0.025"
      ]
     },
     "execution_count": 39,
     "metadata": {},
     "output_type": "execute_result"
    }
   ],
   "source": [
    "get_eta_correlation('region_name')"
   ]
  },
  {
   "cell_type": "markdown",
   "metadata": {},
   "source": [
    "Заметим, что специализация влияет на зарплату гораздо значимее, чем регион"
   ]
  },
  {
   "cell_type": "code",
   "execution_count": 40,
   "metadata": {},
   "outputs": [],
   "source": [
    "data['compensation_from'] = data['compensation_from'].fillna(\n",
    "    data.groupby('specialization')['compensation_from'].transform('median')\n",
    ")"
   ]
  },
  {
   "cell_type": "code",
   "execution_count": 41,
   "metadata": {},
   "outputs": [
    {
     "data": {
      "text/plain": [
       "4168"
      ]
     },
     "execution_count": 41,
     "metadata": {},
     "output_type": "execute_result"
    }
   ],
   "source": [
    "'''случаи, где compensation_from > compensation_to'''\n",
    "\n",
    "data[(data['compensation_from'] > data['compensation_to']) & (data['compensation_to'] != 0)].shape[0]"
   ]
  },
  {
   "cell_type": "markdown",
   "metadata": {},
   "source": [
    "Также есть данные, где compensation_from, в которой мы заполняли пропуски, больше чем compensation_to. В таких случаях мы опустим compensation_from до уровня compensation_to"
   ]
  },
  {
   "cell_type": "code",
   "execution_count": 42,
   "metadata": {},
   "outputs": [],
   "source": [
    "data.loc[(data['compensation_from'] > data['compensation_to']) & (data['compensation_to'] != 0), 'compensation_from'] = data['compensation_to']"
   ]
  },
  {
   "cell_type": "code",
   "execution_count": 43,
   "metadata": {},
   "outputs": [],
   "source": [
    "data['compensation_to'] = data['compensation_to'].fillna(data['compensation_from'])"
   ]
  },
  {
   "cell_type": "code",
   "execution_count": 44,
   "metadata": {},
   "outputs": [
    {
     "data": {
      "text/plain": [
       "0"
      ]
     },
     "execution_count": 44,
     "metadata": {},
     "output_type": "execute_result"
    }
   ],
   "source": [
    "sum(data.isnull().sum())"
   ]
  },
  {
   "cell_type": "markdown",
   "metadata": {},
   "source": [
    "# Дополнительные колонки"
   ]
  },
  {
   "cell_type": "markdown",
   "metadata": {},
   "source": [
    "Добавим данные о длине списка id индустрий"
   ]
  },
  {
   "cell_type": "code",
   "execution_count": 45,
   "metadata": {},
   "outputs": [],
   "source": [
    "data['industry_id_list'] = data['industry_id_list'].apply(eval)"
   ]
  },
  {
   "cell_type": "code",
   "execution_count": 46,
   "metadata": {},
   "outputs": [],
   "source": [
    "data['length_industry_list'] = data['industry_id_list'].apply(lambda x: len(x) if int(bool(x[0])) else 0)"
   ]
  },
  {
   "cell_type": "code",
   "execution_count": 47,
   "metadata": {},
   "outputs": [
    {
     "data": {
      "text/plain": [
       "length_industry_list\n",
       "0    149599\n",
       "1    139064\n",
       "2     60847\n",
       "3     12361\n",
       "4      2267\n",
       "5       372\n",
       "Name: count, dtype: int64"
      ]
     },
     "execution_count": 47,
     "metadata": {},
     "output_type": "execute_result"
    }
   ],
   "source": [
    "data['length_industry_list'].value_counts()"
   ]
  },
  {
   "cell_type": "markdown",
   "metadata": {},
   "source": [
    "# Сохранение датасета"
   ]
  },
  {
   "cell_type": "code",
   "execution_count": 48,
   "metadata": {},
   "outputs": [],
   "source": [
    "data.to_csv('cleared_data_2.csv', index=False)"
   ]
  },
  {
   "cell_type": "code",
   "execution_count": 49,
   "metadata": {},
   "outputs": [
    {
     "data": {
      "text/html": [
       "<div>\n",
       "<style scoped>\n",
       "    .dataframe tbody tr th:only-of-type {\n",
       "        vertical-align: middle;\n",
       "    }\n",
       "\n",
       "    .dataframe tbody tr th {\n",
       "        vertical-align: top;\n",
       "    }\n",
       "\n",
       "    .dataframe thead th {\n",
       "        text-align: right;\n",
       "    }\n",
       "</style>\n",
       "<table border=\"1\" class=\"dataframe\">\n",
       "  <thead>\n",
       "    <tr style=\"text-align: right;\">\n",
       "      <th></th>\n",
       "      <th>vacancy_id</th>\n",
       "      <th>employer_id</th>\n",
       "      <th>employees_number</th>\n",
       "      <th>compensation_from</th>\n",
       "      <th>compensation_to</th>\n",
       "      <th>response_count</th>\n",
       "      <th>female_response_count</th>\n",
       "      <th>male_response_count</th>\n",
       "      <th>young_response_count</th>\n",
       "      <th>young_female_response_count</th>\n",
       "      <th>young_male_response_count</th>\n",
       "      <th>invitation_count</th>\n",
       "      <th>female_invitation_count</th>\n",
       "      <th>male_invitation_count</th>\n",
       "      <th>young_invitation_count</th>\n",
       "      <th>young_female_invitation_count</th>\n",
       "      <th>young_male_invitation_count</th>\n",
       "      <th>length_industry_list</th>\n",
       "    </tr>\n",
       "  </thead>\n",
       "  <tbody>\n",
       "    <tr>\n",
       "      <th>count</th>\n",
       "      <td>3.645100e+05</td>\n",
       "      <td>3.645100e+05</td>\n",
       "      <td>364510.000000</td>\n",
       "      <td>364510.000000</td>\n",
       "      <td>364510.000000</td>\n",
       "      <td>364510.000000</td>\n",
       "      <td>364510.000000</td>\n",
       "      <td>364510.000000</td>\n",
       "      <td>364510.000000</td>\n",
       "      <td>364510.000000</td>\n",
       "      <td>364510.000000</td>\n",
       "      <td>364510.000000</td>\n",
       "      <td>364510.000000</td>\n",
       "      <td>364510.000000</td>\n",
       "      <td>364510.000000</td>\n",
       "      <td>364510.000000</td>\n",
       "      <td>364510.000000</td>\n",
       "      <td>364510.000000</td>\n",
       "    </tr>\n",
       "    <tr>\n",
       "      <th>mean</th>\n",
       "      <td>8.355622e+07</td>\n",
       "      <td>3.524930e+06</td>\n",
       "      <td>9473.684110</td>\n",
       "      <td>54149.284264</td>\n",
       "      <td>69865.021972</td>\n",
       "      <td>22.587847</td>\n",
       "      <td>13.288714</td>\n",
       "      <td>9.299133</td>\n",
       "      <td>1.777106</td>\n",
       "      <td>1.153850</td>\n",
       "      <td>0.623256</td>\n",
       "      <td>17.340279</td>\n",
       "      <td>9.955192</td>\n",
       "      <td>7.385087</td>\n",
       "      <td>0.891120</td>\n",
       "      <td>0.569743</td>\n",
       "      <td>0.321377</td>\n",
       "      <td>0.847080</td>\n",
       "    </tr>\n",
       "    <tr>\n",
       "      <th>std</th>\n",
       "      <td>4.568527e+06</td>\n",
       "      <td>3.131970e+06</td>\n",
       "      <td>45551.174911</td>\n",
       "      <td>30992.536406</td>\n",
       "      <td>47992.522426</td>\n",
       "      <td>48.915636</td>\n",
       "      <td>36.400409</td>\n",
       "      <td>20.602386</td>\n",
       "      <td>7.545437</td>\n",
       "      <td>5.198189</td>\n",
       "      <td>2.873903</td>\n",
       "      <td>45.651520</td>\n",
       "      <td>32.992194</td>\n",
       "      <td>20.568261</td>\n",
       "      <td>5.539305</td>\n",
       "      <td>3.700119</td>\n",
       "      <td>2.142489</td>\n",
       "      <td>0.872871</td>\n",
       "    </tr>\n",
       "    <tr>\n",
       "      <th>min</th>\n",
       "      <td>7.453818e+07</td>\n",
       "      <td>6.000000e+00</td>\n",
       "      <td>0.000000</td>\n",
       "      <td>15000.000000</td>\n",
       "      <td>15000.000000</td>\n",
       "      <td>1.000000</td>\n",
       "      <td>0.000000</td>\n",
       "      <td>0.000000</td>\n",
       "      <td>0.000000</td>\n",
       "      <td>0.000000</td>\n",
       "      <td>0.000000</td>\n",
       "      <td>1.000000</td>\n",
       "      <td>0.000000</td>\n",
       "      <td>0.000000</td>\n",
       "      <td>0.000000</td>\n",
       "      <td>0.000000</td>\n",
       "      <td>0.000000</td>\n",
       "      <td>0.000000</td>\n",
       "    </tr>\n",
       "    <tr>\n",
       "      <th>25%</th>\n",
       "      <td>7.964986e+07</td>\n",
       "      <td>8.588790e+05</td>\n",
       "      <td>1.000000</td>\n",
       "      <td>35000.000000</td>\n",
       "      <td>40000.000000</td>\n",
       "      <td>4.000000</td>\n",
       "      <td>1.000000</td>\n",
       "      <td>1.000000</td>\n",
       "      <td>0.000000</td>\n",
       "      <td>0.000000</td>\n",
       "      <td>0.000000</td>\n",
       "      <td>2.000000</td>\n",
       "      <td>0.000000</td>\n",
       "      <td>0.000000</td>\n",
       "      <td>0.000000</td>\n",
       "      <td>0.000000</td>\n",
       "      <td>0.000000</td>\n",
       "      <td>0.000000</td>\n",
       "    </tr>\n",
       "    <tr>\n",
       "      <th>50%</th>\n",
       "      <td>8.361154e+07</td>\n",
       "      <td>2.971218e+06</td>\n",
       "      <td>50.000000</td>\n",
       "      <td>45000.000000</td>\n",
       "      <td>50408.000000</td>\n",
       "      <td>10.000000</td>\n",
       "      <td>4.000000</td>\n",
       "      <td>4.000000</td>\n",
       "      <td>0.000000</td>\n",
       "      <td>0.000000</td>\n",
       "      <td>0.000000</td>\n",
       "      <td>6.000000</td>\n",
       "      <td>2.000000</td>\n",
       "      <td>2.000000</td>\n",
       "      <td>0.000000</td>\n",
       "      <td>0.000000</td>\n",
       "      <td>0.000000</td>\n",
       "      <td>1.000000</td>\n",
       "    </tr>\n",
       "    <tr>\n",
       "      <th>75%</th>\n",
       "      <td>8.768533e+07</td>\n",
       "      <td>5.193273e+06</td>\n",
       "      <td>1100.000000</td>\n",
       "      <td>60000.000000</td>\n",
       "      <td>80000.000000</td>\n",
       "      <td>22.000000</td>\n",
       "      <td>12.000000</td>\n",
       "      <td>9.000000</td>\n",
       "      <td>1.000000</td>\n",
       "      <td>0.000000</td>\n",
       "      <td>0.000000</td>\n",
       "      <td>17.000000</td>\n",
       "      <td>9.000000</td>\n",
       "      <td>6.000000</td>\n",
       "      <td>0.000000</td>\n",
       "      <td>0.000000</td>\n",
       "      <td>0.000000</td>\n",
       "      <td>1.000000</td>\n",
       "    </tr>\n",
       "    <tr>\n",
       "      <th>max</th>\n",
       "      <td>9.116080e+07</td>\n",
       "      <td>1.123410e+07</td>\n",
       "      <td>682000.000000</td>\n",
       "      <td>400000.000000</td>\n",
       "      <td>1000000.000000</td>\n",
       "      <td>3139.000000</td>\n",
       "      <td>2386.000000</td>\n",
       "      <td>1014.000000</td>\n",
       "      <td>478.000000</td>\n",
       "      <td>293.000000</td>\n",
       "      <td>231.000000</td>\n",
       "      <td>4958.000000</td>\n",
       "      <td>4726.000000</td>\n",
       "      <td>2007.000000</td>\n",
       "      <td>691.000000</td>\n",
       "      <td>434.000000</td>\n",
       "      <td>257.000000</td>\n",
       "      <td>5.000000</td>\n",
       "    </tr>\n",
       "  </tbody>\n",
       "</table>\n",
       "</div>"
      ],
      "text/plain": [
       "         vacancy_id   employer_id  employees_number  compensation_from  \\\n",
       "count  3.645100e+05  3.645100e+05     364510.000000      364510.000000   \n",
       "mean   8.355622e+07  3.524930e+06       9473.684110       54149.284264   \n",
       "std    4.568527e+06  3.131970e+06      45551.174911       30992.536406   \n",
       "min    7.453818e+07  6.000000e+00          0.000000       15000.000000   \n",
       "25%    7.964986e+07  8.588790e+05          1.000000       35000.000000   \n",
       "50%    8.361154e+07  2.971218e+06         50.000000       45000.000000   \n",
       "75%    8.768533e+07  5.193273e+06       1100.000000       60000.000000   \n",
       "max    9.116080e+07  1.123410e+07     682000.000000      400000.000000   \n",
       "\n",
       "       compensation_to  response_count  female_response_count  \\\n",
       "count    364510.000000   364510.000000          364510.000000   \n",
       "mean      69865.021972       22.587847              13.288714   \n",
       "std       47992.522426       48.915636              36.400409   \n",
       "min       15000.000000        1.000000               0.000000   \n",
       "25%       40000.000000        4.000000               1.000000   \n",
       "50%       50408.000000       10.000000               4.000000   \n",
       "75%       80000.000000       22.000000              12.000000   \n",
       "max     1000000.000000     3139.000000            2386.000000   \n",
       "\n",
       "       male_response_count  young_response_count  young_female_response_count  \\\n",
       "count        364510.000000         364510.000000                364510.000000   \n",
       "mean              9.299133              1.777106                     1.153850   \n",
       "std              20.602386              7.545437                     5.198189   \n",
       "min               0.000000              0.000000                     0.000000   \n",
       "25%               1.000000              0.000000                     0.000000   \n",
       "50%               4.000000              0.000000                     0.000000   \n",
       "75%               9.000000              1.000000                     0.000000   \n",
       "max            1014.000000            478.000000                   293.000000   \n",
       "\n",
       "       young_male_response_count  invitation_count  female_invitation_count  \\\n",
       "count              364510.000000     364510.000000            364510.000000   \n",
       "mean                    0.623256         17.340279                 9.955192   \n",
       "std                     2.873903         45.651520                32.992194   \n",
       "min                     0.000000          1.000000                 0.000000   \n",
       "25%                     0.000000          2.000000                 0.000000   \n",
       "50%                     0.000000          6.000000                 2.000000   \n",
       "75%                     0.000000         17.000000                 9.000000   \n",
       "max                   231.000000       4958.000000              4726.000000   \n",
       "\n",
       "       male_invitation_count  young_invitation_count  \\\n",
       "count          364510.000000           364510.000000   \n",
       "mean                7.385087                0.891120   \n",
       "std                20.568261                5.539305   \n",
       "min                 0.000000                0.000000   \n",
       "25%                 0.000000                0.000000   \n",
       "50%                 2.000000                0.000000   \n",
       "75%                 6.000000                0.000000   \n",
       "max              2007.000000              691.000000   \n",
       "\n",
       "       young_female_invitation_count  young_male_invitation_count  \\\n",
       "count                  364510.000000                364510.000000   \n",
       "mean                        0.569743                     0.321377   \n",
       "std                         3.700119                     2.142489   \n",
       "min                         0.000000                     0.000000   \n",
       "25%                         0.000000                     0.000000   \n",
       "50%                         0.000000                     0.000000   \n",
       "75%                         0.000000                     0.000000   \n",
       "max                       434.000000                   257.000000   \n",
       "\n",
       "       length_industry_list  \n",
       "count         364510.000000  \n",
       "mean               0.847080  \n",
       "std                0.872871  \n",
       "min                0.000000  \n",
       "25%                0.000000  \n",
       "50%                1.000000  \n",
       "75%                1.000000  \n",
       "max                5.000000  "
      ]
     },
     "execution_count": 49,
     "metadata": {},
     "output_type": "execute_result"
    }
   ],
   "source": [
    "pd.read_csv('cleared_data_2.csv').describe()"
   ]
  }
 ],
 "metadata": {
  "kernelspec": {
   "display_name": "Python 3",
   "language": "python",
   "name": "python3"
  },
  "language_info": {
   "codemirror_mode": {
    "name": "ipython",
    "version": 3
   },
   "file_extension": ".py",
   "mimetype": "text/x-python",
   "name": "python",
   "nbconvert_exporter": "python",
   "pygments_lexer": "ipython3",
   "version": "3.10.12"
  }
 },
 "nbformat": 4,
 "nbformat_minor": 2
}
